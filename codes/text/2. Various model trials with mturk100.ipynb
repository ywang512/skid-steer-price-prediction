{
 "cells": [
  {
   "cell_type": "markdown",
   "metadata": {},
   "source": [
    "## Preprocessing"
   ]
  },
  {
   "cell_type": "code",
   "execution_count": 157,
   "metadata": {},
   "outputs": [
    {
     "name": "stdout",
     "output_type": "stream",
     "text": [
      "['mturk_100.csv', 'details_rbauct_concat.txt', 'embedding_5246.pkl', 'details_rbauction_raw.csv', 'Skid_Steer_Duke_Data2.xlsx', 'df_rbauct_5246_test.csv', '.ipynb_checkpoints', 'df_rbauct_transformed_test.csv', 'text_parts', 'sample_result_100', 'skid_steer_color_score.csv', 'df_rbauct_transformed_train.csv', 'mturk_96.csv', 'df_rbauct_5246_train.csv', 'Skid_steer_large.csv']\n"
     ]
    }
   ],
   "source": [
    "import numpy as np\n",
    "import pandas as pd\n",
    "import os\n",
    "import seaborn as sns\n",
    "import matplotlib.pyplot as plt\n",
    "from collections import Counter\n",
    "from sklearn import preprocessing\n",
    "from vaderSentiment.vaderSentiment import SentimentIntensityAnalyzer\n",
    "print(os.listdir(\"./data\"))"
   ]
  },
  {
   "cell_type": "code",
   "execution_count": 105,
   "metadata": {},
   "outputs": [],
   "source": [
    "tabular_data = \"./data/Skid_Steer_Duke_Data2.xlsx\"\n",
    "df = pd.read_excel(tabular_data)\n",
    "\n",
    "df['Unique_ID'] = df[['Source','item#']].apply(lambda x: '_'.join(x),axis = 1)\n",
    "color = pd.read_csv('./data/skid_steer_color_score.csv')\n",
    "final_df = pd.merge(df, color,on='Unique_ID',how='inner')\n",
    "\n",
    "df = final_df.filter(['Unique_ID','Make','Model','Winning_Bid','Hours_Final','Age_at_sale','score','Bucket','Engine','Tires','Transmission'], axis = 1)\n",
    "df = df.rename(columns={\n",
    "    'Unique_ID': \"unique_id\",\n",
    "    'Make': 'make',\n",
    "    'Model':'model',\n",
    "    'Hours_Final': \"hours_final\",\n",
    "    'Winning_Bid': \"winning_bid\",\n",
    "    'Age_at_sale': \"age_at_sale\",\n",
    "    'Bucket': \"bucket\",\n",
    "    'Engine': \"engine\",\n",
    "    'Tires': \"tires\",\n",
    "    'Transmission': \"transmission\",\n",
    "    'details remaining':\"datails\"\n",
    "})"
   ]
  },
  {
   "cell_type": "code",
   "execution_count": 106,
   "metadata": {},
   "outputs": [
    {
     "data": {
      "text/html": [
       "<div>\n",
       "<style scoped>\n",
       "    .dataframe tbody tr th:only-of-type {\n",
       "        vertical-align: middle;\n",
       "    }\n",
       "\n",
       "    .dataframe tbody tr th {\n",
       "        vertical-align: top;\n",
       "    }\n",
       "\n",
       "    .dataframe thead th {\n",
       "        text-align: right;\n",
       "    }\n",
       "</style>\n",
       "<table border=\"1\" class=\"dataframe\">\n",
       "  <thead>\n",
       "    <tr style=\"text-align: right;\">\n",
       "      <th></th>\n",
       "      <th>unique_id</th>\n",
       "      <th>make</th>\n",
       "      <th>model</th>\n",
       "      <th>winning_bid</th>\n",
       "      <th>hours_final</th>\n",
       "      <th>age_at_sale</th>\n",
       "      <th>score</th>\n",
       "      <th>bucket</th>\n",
       "      <th>engine</th>\n",
       "      <th>tires</th>\n",
       "      <th>transmission</th>\n",
       "    </tr>\n",
       "  </thead>\n",
       "  <tbody>\n",
       "    <tr>\n",
       "      <th>0</th>\n",
       "      <td>rbauction_10199737</td>\n",
       "      <td>CATERPILLAR</td>\n",
       "      <td>272C 2 SPD HIGH FLOW</td>\n",
       "      <td>18500</td>\n",
       "      <td>4695.0</td>\n",
       "      <td>6.0</td>\n",
       "      <td>37.880233</td>\n",
       "      <td>NaN</td>\n",
       "      <td>NaN</td>\n",
       "      <td>NaN</td>\n",
       "      <td>NaN</td>\n",
       "    </tr>\n",
       "    <tr>\n",
       "      <th>1</th>\n",
       "      <td>rbauction_10323508</td>\n",
       "      <td>BOBCAT</td>\n",
       "      <td>751</td>\n",
       "      <td>7000</td>\n",
       "      <td>4675.0</td>\n",
       "      <td>18.0</td>\n",
       "      <td>14.743169</td>\n",
       "      <td>bkt</td>\n",
       "      <td>NaN</td>\n",
       "      <td>NaN</td>\n",
       "      <td>NaN</td>\n",
       "    </tr>\n",
       "    <tr>\n",
       "      <th>2</th>\n",
       "      <td>rbauction_10544103</td>\n",
       "      <td>CATERPILLAR</td>\n",
       "      <td>252B3 2 SPD</td>\n",
       "      <td>22000</td>\n",
       "      <td>4047.0</td>\n",
       "      <td>6.0</td>\n",
       "      <td>34.750538</td>\n",
       "      <td>bkt</td>\n",
       "      <td>NaN</td>\n",
       "      <td>solid tires</td>\n",
       "      <td>NaN</td>\n",
       "    </tr>\n",
       "    <tr>\n",
       "      <th>3</th>\n",
       "      <td>rbauction_10612921</td>\n",
       "      <td>DEERE</td>\n",
       "      <td>328D</td>\n",
       "      <td>18000</td>\n",
       "      <td>1370.0</td>\n",
       "      <td>6.0</td>\n",
       "      <td>32.387521</td>\n",
       "      <td>bkt</td>\n",
       "      <td>NaN</td>\n",
       "      <td>solid tires</td>\n",
       "      <td>NaN</td>\n",
       "    </tr>\n",
       "    <tr>\n",
       "      <th>4</th>\n",
       "      <td>rbauction_10533374</td>\n",
       "      <td>BOBCAT</td>\n",
       "      <td>S750 2 SPD</td>\n",
       "      <td>34000</td>\n",
       "      <td>1531.0</td>\n",
       "      <td>6.0</td>\n",
       "      <td>22.688279</td>\n",
       "      <td>bkt</td>\n",
       "      <td>NaN</td>\n",
       "      <td>NaN</td>\n",
       "      <td>NaN</td>\n",
       "    </tr>\n",
       "  </tbody>\n",
       "</table>\n",
       "</div>"
      ],
      "text/plain": [
       "            unique_id         make                 model  winning_bid  \\\n",
       "0  rbauction_10199737  CATERPILLAR  272C 2 SPD HIGH FLOW        18500   \n",
       "1  rbauction_10323508       BOBCAT                   751         7000   \n",
       "2  rbauction_10544103  CATERPILLAR           252B3 2 SPD        22000   \n",
       "3  rbauction_10612921        DEERE                  328D        18000   \n",
       "4  rbauction_10533374       BOBCAT            S750 2 SPD        34000   \n",
       "\n",
       "   hours_final  age_at_sale      score bucket engine        tires transmission  \n",
       "0       4695.0          6.0  37.880233    NaN    NaN          NaN          NaN  \n",
       "1       4675.0         18.0  14.743169    bkt    NaN          NaN          NaN  \n",
       "2       4047.0          6.0  34.750538    bkt    NaN  solid tires          NaN  \n",
       "3       1370.0          6.0  32.387521    bkt    NaN  solid tires          NaN  \n",
       "4       1531.0          6.0  22.688279    bkt    NaN          NaN          NaN  "
      ]
     },
     "execution_count": 106,
     "metadata": {},
     "output_type": "execute_result"
    }
   ],
   "source": [
    "df.head()"
   ]
  },
  {
   "cell_type": "code",
   "execution_count": 107,
   "metadata": {},
   "outputs": [],
   "source": [
    "### removal\n",
    "# remove duplicant\n",
    "duplicated_item = [item for item, count in Counter(df[\"unique_id\"]).items() if count > 1]\n",
    "df = df[~df['unique_id'].isin(duplicated_item)]\n",
    "\n",
    "# remove special image\n",
    "df = df[df['unique_id'] != \"rbauction_10525632\"]"
   ]
  },
  {
   "cell_type": "code",
   "execution_count": 108,
   "metadata": {},
   "outputs": [
    {
     "data": {
      "text/plain": [
       "unique_id          0\n",
       "make               0\n",
       "model              0\n",
       "winning_bid        0\n",
       "hours_final      494\n",
       "age_at_sale      379\n",
       "score              0\n",
       "bucket          1044\n",
       "engine          4239\n",
       "tires           3653\n",
       "transmission    5107\n",
       "dtype: int64"
      ]
     },
     "execution_count": 108,
     "metadata": {},
     "output_type": "execute_result"
    }
   ],
   "source": [
    "df.isnull().sum(axis=0) # use mean imputation, use a more advanced imputation method (hours_final, age_at_sale)"
   ]
  },
  {
   "cell_type": "code",
   "execution_count": 109,
   "metadata": {},
   "outputs": [],
   "source": [
    "### winning_bid\n",
    "\n",
    "# log-transform\n",
    "df[\"winning_bid\"] = np.log(df[\"winning_bid\"])\n",
    "\n",
    "# standard scale\n",
    "mm_scaler_price = preprocessing.StandardScaler()\n",
    "df[\"winning_bid\"] = mm_scaler_price.fit_transform(df[\"winning_bid\"].to_numpy().reshape(-1, 1))"
   ]
  },
  {
   "cell_type": "code",
   "execution_count": 63,
   "metadata": {},
   "outputs": [],
   "source": [
    "## Iterative imputor didn't work as well\n",
    "\n",
    "# from sklearn.experimental import enable_iterative_imputer\n",
    "# from sklearn.impute import IterativeImputer\n",
    "\n",
    "# # Initialize IterativeImputer\n",
    "# imp = IterativeImputer(max_iter=10, random_state=0)\n",
    "\n",
    "# df[['hours_final','age_at_sale']] = imp.fit_transform(df[['hours_final','age_at_sale']])"
   ]
  },
  {
   "cell_type": "code",
   "execution_count": 64,
   "metadata": {},
   "outputs": [
    {
     "name": "stdout",
     "output_type": "stream",
     "text": [
      "Train check\n",
      "hours_final    0\n",
      "age_at_sale    0\n",
      "dtype: int64\n"
     ]
    }
   ],
   "source": [
    "# print('Train check')\n",
    "# print(df[['hours_final','age_at_sale']].isna().sum())"
   ]
  },
  {
   "cell_type": "code",
   "execution_count": 110,
   "metadata": {},
   "outputs": [],
   "source": [
    "### hours_final\n",
    "\n",
    "# exclude invalid values\n",
    "df[\"hours_final\"]\n",
    "\n",
    "\n",
    "# impute nan with median and new binary indicator\n",
    "# df[\"hours_final\"] = df[\"hours_final\"].str.replace(\",\", \"\")\n",
    "# df[\"hours_final\"] = df[\"hours_final\"].astype(float)\n",
    "df.insert(3, column=\"hours_final_nan\", value=df[\"hours_final\"].isna().astype(int))\n",
    "df.loc[df[\"hours_final\"].isna(), \"hours_final\"] = df[\"hours_final\"].median(skipna=True)\n",
    "df = df[df['hours_final'] < 40000]\n",
    "\n",
    "# log transform\n",
    "df[\"hours_final\"] = np.log(df[\"hours_final\"])\n",
    "\n",
    "# normalize\n",
    "std_scaler_hour = preprocessing.StandardScaler()\n",
    "df[\"hours_final\"] = std_scaler_hour.fit_transform(np.array(df[\"hours_final\"]).reshape(-1, 1))"
   ]
  },
  {
   "cell_type": "code",
   "execution_count": 111,
   "metadata": {},
   "outputs": [],
   "source": [
    "### age_at_sale\n",
    "\n",
    "# impute nan with median and new binary indicator\n",
    "# df[\"age_at_sale\"] = df[\"age_at_sale\"].astype(float)\n",
    "df.insert(5, column=\"age_at_sale_nan\", value=df[\"age_at_sale\"].isna().astype(int))\n",
    "df.loc[df[\"age_at_sale\"].isna(), \"age_at_sale\"] = df[\"age_at_sale\"].median(skipna=True)\n",
    "\n",
    "# normalize\n",
    "std_scaler_age = preprocessing.StandardScaler()\n",
    "df[\"age_at_sale\"] = std_scaler_age.fit_transform(np.array(df[\"age_at_sale\"]).reshape(-1, 1))"
   ]
  },
  {
   "cell_type": "code",
   "execution_count": 112,
   "metadata": {},
   "outputs": [],
   "source": [
    "### score\n",
    "\n",
    "std_scaler_score = preprocessing.StandardScaler()\n",
    "df[\"score\"] = std_scaler_score.fit_transform(np.array(df[\"score\"]).reshape(-1, 1))"
   ]
  },
  {
   "cell_type": "code",
   "execution_count": 113,
   "metadata": {},
   "outputs": [],
   "source": [
    "### 42 makes\n",
    "df['make'] = df['make'].replace({'BOB CAT': 'BOBCAT', 'BOCAT': 'BOBCAT'})\n",
    "df['make'] = df['make'].replace({'NEW  HOLLAND': 'NEW HOLLAND'})\n",
    "df['make'] = df['make'].replace({'A S V': 'ASV'})\n",
    "df['make'] = df['make'].replace({'CASE IH': 'CASE','JI CASE':'CASE'}) # they seems to be the same company\n",
    "df['make'] = df['make'].replace({'WACKER': 'WACKER NEUSON'})\n",
    "df['make'] = df['make'].replace({'THOMAS PRO TOUGH': 'THOMAS'})\n",
    "df['make'] = df['make'].replace({'SCATTRAK': 'SCAT TRAK', 'SCAT TRACK':'SCAT TRAK'}) # assume they come from same company\n",
    "df['make'] = df['make'].replace({'DOOSAN DAEWOO':'DAEWOO'})\n",
    "df['make'] = df['make'].replace({'TAKEUCHI MFG':'TAKEUCHI'})\n",
    "df['make'] = df['make'].replace({'HYDRA-MAC':'HYDRAMAC'})\n",
    "df['make'] = df['make'].replace({'POWEHOUSE PRO': 'POWERHOUSE'})\n",
    "df['make'] = df['make'].replace({'MERTZ': 'BOXER'}) # assumption after observation"
   ]
  },
  {
   "cell_type": "code",
   "execution_count": 114,
   "metadata": {},
   "outputs": [
    {
     "data": {
      "text/plain": [
       "make\n",
       "ALLU                                                     [DH 3-17]\n",
       "ASV                          [POSI-TRAC MD-70, 4520, RC85, P T-70]\n",
       "BOBCAT           [751, S750 2 SPD, S150, S185, S770, S650, S250...\n",
       "CASE             [85XT, SV300, 450, SR150, 450 SERIES III, SV30...\n",
       "CATERPILLAR      [272C 2 SPD HIGH FLOW, 252B3 2 SPD, 262, 216B,...\n",
       "CLARK                                                        [722]\n",
       "DAEWOO           [460 PLUS, 440 PLUS, 1760XL, DSL801, DSL8D1, 6...\n",
       "DEERE            [328D, 318D, 320D, 250, 318D 2 SPD, 324E 2 SPD...\n",
       "DITCH WITCH                  [SK500, R300 ZAHN WALK BEHIND, SK755]\n",
       "DOOSAN                                        [470 PLUS, 450 PLUS]\n",
       "GALLAGHER                                              [SOLAR S17]\n",
       "GEHL             [4640, 4240E, 5640, 7810, 4840, 5635, V400 2 S...\n",
       "HYDRAMAC                                       [2650, 1700, 2650D]\n",
       "HYUNDAI                                                 [HSL850-7]\n",
       "IHI                                               [AS34 HIGH FLOW]\n",
       "INTERNATIONAL                                               [3200]\n",
       "JCB              [280 2 SPD, 260, 155 T4 ECO, 225, 160 ROBOT, 1...\n",
       "KOMATSU          [SK815, SK1020-5N GALEO, SK1020-5N 2 SPD, SK10...\n",
       "KUBOTA           [SSV65 2 SPD, SSV75, SSV65, SVL95-2S, SVL 90-2...\n",
       "MATTSON          [ML525W MINI (UNUSED), ML525W WALK BEHIND (UNU...\n",
       "MUSTANG          [930A, 2054, 2060, 2056 SERIES II 2 SPD, 2066,...\n",
       "NEW HOLLAND      [L170, LS160, L 865, LS185B 2 SPD HIGH FLOW, L...\n",
       "OMC                                                          [310]\n",
       "OWANTANA                                                 [MUSTANG]\n",
       "POWERHOUSE                                                   [PRO]\n",
       "PROTOUGH                                               [B108/2200]\n",
       "RACOON                                                      [HT40]\n",
       "SCAT TRAK        [17003, 1700C, 1300C, 1750D, 1300D, 17000, 200...\n",
       "SKYJACK          [SJ7135RT, SJ8841 RT, SJ7135 RT, SJ9250 RT, SJ...\n",
       "TAIAN TAMEC                                                [JC75S]\n",
       "TAKEUCHI         [TS70R 2 SPD, TS70R, TS70V, TL140 PARTS ONLY C...\n",
       "TEREX            [TSR50, TSR60, TSR70, TSV60, TSV-60, TSV80, TS...\n",
       "THOMAS           [135, B308/170R, T243SHD, T133, B301/150R, B01...\n",
       "TORO             [DINGO TX-525, DINGO 323 WALK BEHIND MINI, DIN...\n",
       "TOYOTA                                                     [2SDK8]\n",
       "VERMEER                                 [S600 WALK BEHIND, S650TX]\n",
       "VOLVO            [MC115C, MC60B, MC70C, MC135C, MC110B, MC95C, ...\n",
       "WACKER NEUSON                                         [SW28, SW24]\n",
       "YANMAR                                                     [S165R]\n",
       "Name: model, dtype: object"
      ]
     },
     "execution_count": 114,
     "metadata": {},
     "output_type": "execute_result"
    }
   ],
   "source": [
    "# group by make, and see model difference, how to do a submodel for each category??\n",
    "df.groupby(['make'])['model'].unique()"
   ]
  },
  {
   "cell_type": "code",
   "execution_count": 115,
   "metadata": {},
   "outputs": [],
   "source": [
    "df.reset_index(drop=True, inplace=True)"
   ]
  },
  {
   "cell_type": "code",
   "execution_count": 116,
   "metadata": {},
   "outputs": [],
   "source": [
    "## parts sentiments\n",
    "def part_sentiment(part):\n",
    "    part_sentiment = part + \"_sentiment\"\n",
    "    df[part_sentiment] = \"\"\n",
    "    analyzer = SentimentIntensityAnalyzer()\n",
    "    list_indices = np.where(~df[part].isnull())[0]\n",
    "    for indice in list_indices:\n",
    "        sentence = df[part].tolist()[indice]\n",
    "        if len(sentence)>100:  #pick up only very strong signals\n",
    "            vs = analyzer.polarity_scores(sentence)\n",
    "            lb = vs['compound']\n",
    "            if lb >= 0.05:\n",
    "                score = 1\n",
    "            elif (lb > -0.05) and (lb < 0.05):\n",
    "                score = 0\n",
    "            else:\n",
    "                score = -1\n",
    "            df[part_sentiment][indice] = score\n",
    "        else:\n",
    "            df[part_sentiment][indice] = 0\n",
    "\n",
    "    df[part_sentiment] = pd.to_numeric(df[part_sentiment]).fillna(0)"
   ]
  },
  {
   "cell_type": "code",
   "execution_count": 117,
   "metadata": {},
   "outputs": [
    {
     "name": "stderr",
     "output_type": "stream",
     "text": [
      "/opt/anaconda3/lib/python3.7/site-packages/ipykernel_launcher.py:20: SettingWithCopyWarning: \n",
      "A value is trying to be set on a copy of a slice from a DataFrame\n",
      "\n",
      "See the caveats in the documentation: http://pandas.pydata.org/pandas-docs/stable/user_guide/indexing.html#returning-a-view-versus-a-copy\n",
      "/opt/anaconda3/lib/python3.7/site-packages/ipykernel_launcher.py:18: SettingWithCopyWarning: \n",
      "A value is trying to be set on a copy of a slice from a DataFrame\n",
      "\n",
      "See the caveats in the documentation: http://pandas.pydata.org/pandas-docs/stable/user_guide/indexing.html#returning-a-view-versus-a-copy\n"
     ]
    }
   ],
   "source": [
    "part_sentiment('engine')\n",
    "part_sentiment('bucket')\n",
    "part_sentiment('tires')\n",
    "part_sentiment('transmission')"
   ]
  },
  {
   "cell_type": "markdown",
   "metadata": {},
   "source": [
    "## Collinearity issue"
   ]
  },
  {
   "cell_type": "code",
   "execution_count": 164,
   "metadata": {},
   "outputs": [],
   "source": [
    "def heatmap_corr(df):\n",
    "    sns.set(style=\"white\")\n",
    "    d = df\n",
    "    # Compute the correlation matrix\n",
    "    corr = d.corr()\n",
    "    # Generate a mask for the upper triangle\n",
    "    mask = np.triu(np.ones_like(corr, dtype=np.bool))\n",
    "    # Set up the matplotlib figure\n",
    "    f, ax = plt.subplots(figsize=(10, 10))\n",
    "    # Generate a custom diverging colormap\n",
    "    cmap = sns.diverging_palette(220, 10, as_cmap=True)\n",
    "    # Draw the heatmap with the mask and correct aspect ratio\n",
    "    sns.heatmap(corr, mask=mask, cmap=cmap, vmax=1.0, vmin=-1.0, center=0,\n",
    "    square=True, linewidths=.5, cbar_kws={\"shrink\": .5})"
   ]
  },
  {
   "cell_type": "code",
   "execution_count": 165,
   "metadata": {},
   "outputs": [
    {
     "data": {
      "image/png": "[encoded data removed]",
      "text/plain": [
       "<Figure size 720x720 with 2 Axes>"
      ]
     },
     "metadata": {},
     "output_type": "display_data"
    }
   ],
   "source": [
    "df_plot = df_join.drop(['unique_id','winning_bid','model','hours_final_nan','age_at_sale_nan','bucket_x','engine','tires','transmission','bucket_y', 'sun','blue_sky','grass','cloud_snow','outdoor'], axis=1)\n",
    "heatmap_corr(df_plot)"
   ]
  },
  {
   "cell_type": "markdown",
   "metadata": {},
   "source": [
    "## Model Comparisons\n",
    "(the following use median imputation; **100 images** only for comparison)\n",
    "1. MLR with hours_final, age_at_sale\n",
    "2. MLR with hours_final, age_at_sale, make\n",
    "3. MLR with hours_final, age_at_sale, make, all the annotations from MTRUK\n",
    "4. H2O random forest regressor with all features involved (better to deal with categorical variables)"
   ]
  },
  {
   "cell_type": "markdown",
   "metadata": {},
   "source": [
    "### 1. MLR with hours_final, age_at_sale (6117)"
   ]
  },
  {
   "cell_type": "markdown",
   "metadata": {},
   "source": [
    "| Model | Parameters | Sample Size | R^2 |\n",
    "| :- |-------------: | :-: | :-: |\n",
    "| MLR | hours_final, age_at_sale | 6167 | 0.392 |\n",
    "| MLR | hours_final, age_at_sale, **parts_sentiment** | 6167 | 0.395|\n",
    "| MLR | hours_final, age_at_sale, **colorfulness_score** | 6167 | 0.396|\n",
    "| MLR | hours_final, age_at_sale, **make** | 6167 | 0.434 |\n",
    "| MLR | hours_final, age_at_sale | 96 | 0.431 |\n",
    "| MLR | hours_final, age_at_sale, **make** | 96 | 0.570 |\n",
    "| MLR | hours_final, age_at_sale, **make, mturk** | 96 | 0.633 |\n",
    "| MLR | hours_final, age_at_sale, **make, mturk, parts_sentiment, colorfulness** | 96 | 0.676 |\n",
    "| H2o_Random_Forest | hours_final, age_at_sale, **make, mturk, parts_sentiment, colorfulness** | 96 | 0.897 (MSE) |"
   ]
  },
  {
   "cell_type": "code",
   "execution_count": 42,
   "metadata": {},
   "outputs": [],
   "source": [
    "import statsmodels.api as sm\n",
    "from sklearn.model_selection import train_test_split"
   ]
  },
  {
   "cell_type": "code",
   "execution_count": 118,
   "metadata": {},
   "outputs": [],
   "source": [
    "y = df['winning_bid']\n",
    "X = df[['hours_final','age_at_sale']]"
   ]
  },
  {
   "cell_type": "code",
   "execution_count": 119,
   "metadata": {},
   "outputs": [],
   "source": [
    "def OLS_model(X,y):\n",
    "    train_features, valid_features, train_y, valid_y = train_test_split(X, y, test_size = 0.25, random_state=12)\n",
    "    np.random.seed(1234)\n",
    "    model = sm.OLS(train_y, train_features).fit()\n",
    "# predictions = model.predict(X) # make the predictions by the model\n",
    "\n",
    "# Print out the statistics\n",
    "    print(model.summary())"
   ]
  },
  {
   "cell_type": "code",
   "execution_count": 120,
   "metadata": {},
   "outputs": [
    {
     "name": "stdout",
     "output_type": "stream",
     "text": [
      "                                 OLS Regression Results                                \n",
      "=======================================================================================\n",
      "Dep. Variable:            winning_bid   R-squared (uncentered):                   0.392\n",
      "Model:                            OLS   Adj. R-squared (uncentered):              0.392\n",
      "Method:                 Least Squares   F-statistic:                              1490.\n",
      "Date:                Mon, 02 Mar 2020   Prob (F-statistic):                        0.00\n",
      "Time:                        02:46:44   Log-Likelihood:                         -5451.5\n",
      "No. Observations:                4625   AIC:                                  1.091e+04\n",
      "Df Residuals:                    4623   BIC:                                  1.092e+04\n",
      "Df Model:                           2                                                  \n",
      "Covariance Type:            nonrobust                                                  \n",
      "===============================================================================\n",
      "                  coef    std err          t      P>|t|      [0.025      0.975]\n",
      "-------------------------------------------------------------------------------\n",
      "hours_final    -0.0274      0.012     -2.291      0.022      -0.051      -0.004\n",
      "age_at_sale    -0.6189      0.012    -51.885      0.000      -0.642      -0.596\n",
      "==============================================================================\n",
      "Omnibus:                        0.144   Durbin-Watson:                   2.004\n",
      "Prob(Omnibus):                  0.931   Jarque-Bera (JB):                0.147\n",
      "Skew:                          -0.014   Prob(JB):                        0.929\n",
      "Kurtosis:                       2.995   Cond. No.                         1.32\n",
      "==============================================================================\n",
      "\n",
      "Warnings:\n",
      "[1] Standard Errors assume that the covariance matrix of the errors is correctly specified.\n"
     ]
    }
   ],
   "source": [
    "OLS_model(X,y)"
   ]
  },
  {
   "cell_type": "markdown",
   "metadata": {},
   "source": [
    "### + Test if engine_sentiment is significant (not quite significant)"
   ]
  },
  {
   "cell_type": "code",
   "execution_count": 121,
   "metadata": {},
   "outputs": [],
   "source": [
    "# improve slightly\n",
    "y = df['winning_bid']\n",
    "X = df[['hours_final','age_at_sale','engine_sentiment','bucket_sentiment','tires_sentiment','transmission_sentiment']]"
   ]
  },
  {
   "cell_type": "code",
   "execution_count": 122,
   "metadata": {},
   "outputs": [
    {
     "name": "stdout",
     "output_type": "stream",
     "text": [
      "                                 OLS Regression Results                                \n",
      "=======================================================================================\n",
      "Dep. Variable:            winning_bid   R-squared (uncentered):                   0.395\n",
      "Model:                            OLS   Adj. R-squared (uncentered):              0.394\n",
      "Method:                 Least Squares   F-statistic:                              602.0\n",
      "Date:                Mon, 02 Mar 2020   Prob (F-statistic):                        0.00\n",
      "Time:                        02:46:47   Log-Likelihood:                         -5441.5\n",
      "No. Observations:                4625   AIC:                                  1.089e+04\n",
      "Df Residuals:                    4620   BIC:                                  1.093e+04\n",
      "Df Model:                           5                                                  \n",
      "Covariance Type:            nonrobust                                                  \n",
      "==========================================================================================\n",
      "                             coef    std err          t      P>|t|      [0.025      0.975]\n",
      "------------------------------------------------------------------------------------------\n",
      "hours_final               -0.0321      0.012     -2.664      0.008      -0.056      -0.008\n",
      "age_at_sale               -0.6172      0.012    -51.802      0.000      -0.641      -0.594\n",
      "engine_sentiment           0.4476      0.168      2.671      0.008       0.119       0.776\n",
      "bucket_sentiment          -0.5908      0.173     -3.418      0.001      -0.930      -0.252\n",
      "tires_sentiment            0.7855      0.556      1.414      0.158      -0.304       1.875\n",
      "transmission_sentiment          0          0        nan        nan           0           0\n",
      "==============================================================================\n",
      "Omnibus:                        0.201   Durbin-Watson:                   2.008\n",
      "Prob(Omnibus):                  0.904   Jarque-Bera (JB):                0.175\n",
      "Skew:                          -0.013   Prob(JB):                        0.916\n",
      "Kurtosis:                       3.016   Cond. No.                          inf\n",
      "==============================================================================\n",
      "\n",
      "Warnings:\n",
      "[1] Standard Errors assume that the covariance matrix of the errors is correctly specified.\n",
      "[2] The smallest eigenvalue is      0. This might indicate that there are\n",
      "strong multicollinearity problems or that the design matrix is singular.\n"
     ]
    },
    {
     "name": "stderr",
     "output_type": "stream",
     "text": [
      "/opt/anaconda3/lib/python3.7/site-packages/statsmodels/regression/linear_model.py:1830: RuntimeWarning: divide by zero encountered in double_scalars\n",
      "  return np.sqrt(eigvals[0]/eigvals[-1])\n",
      "/opt/anaconda3/lib/python3.7/site-packages/statsmodels/base/model.py:1362: RuntimeWarning: invalid value encountered in true_divide\n",
      "  return self.params / self.bse\n",
      "/opt/anaconda3/lib/python3.7/site-packages/scipy/stats/_distn_infrastructure.py:903: RuntimeWarning: invalid value encountered in greater\n",
      "  return (a < x) & (x < b)\n",
      "/opt/anaconda3/lib/python3.7/site-packages/scipy/stats/_distn_infrastructure.py:903: RuntimeWarning: invalid value encountered in less\n",
      "  return (a < x) & (x < b)\n",
      "/opt/anaconda3/lib/python3.7/site-packages/scipy/stats/_distn_infrastructure.py:1912: RuntimeWarning: invalid value encountered in less_equal\n",
      "  cond2 = cond0 & (x <= _a)\n"
     ]
    }
   ],
   "source": [
    "OLS_model(X,y)"
   ]
  },
  {
   "cell_type": "markdown",
   "metadata": {},
   "source": [
    "### + Adding colorfulness scores"
   ]
  },
  {
   "cell_type": "code",
   "execution_count": 123,
   "metadata": {},
   "outputs": [],
   "source": [
    "# improve slightly\n",
    "y = df['winning_bid']\n",
    "X = df[['hours_final','age_at_sale','score']]"
   ]
  },
  {
   "cell_type": "code",
   "execution_count": 124,
   "metadata": {},
   "outputs": [
    {
     "name": "stdout",
     "output_type": "stream",
     "text": [
      "                                 OLS Regression Results                                \n",
      "=======================================================================================\n",
      "Dep. Variable:            winning_bid   R-squared (uncentered):                   0.396\n",
      "Model:                            OLS   Adj. R-squared (uncentered):              0.395\n",
      "Method:                 Least Squares   F-statistic:                              1009.\n",
      "Date:                Mon, 02 Mar 2020   Prob (F-statistic):                        0.00\n",
      "Time:                        02:47:40   Log-Likelihood:                         -5436.8\n",
      "No. Observations:                4625   AIC:                                  1.088e+04\n",
      "Df Residuals:                    4622   BIC:                                  1.090e+04\n",
      "Df Model:                           3                                                  \n",
      "Covariance Type:            nonrobust                                                  \n",
      "===============================================================================\n",
      "                  coef    std err          t      P>|t|      [0.025      0.975]\n",
      "-------------------------------------------------------------------------------\n",
      "hours_final    -0.0150      0.012     -1.237      0.216      -0.039       0.009\n",
      "age_at_sale    -0.6165      0.012    -51.805      0.000      -0.640      -0.593\n",
      "score           0.0647      0.012      5.433      0.000       0.041       0.088\n",
      "==============================================================================\n",
      "Omnibus:                        0.250   Durbin-Watson:                   2.005\n",
      "Prob(Omnibus):                  0.882   Jarque-Bera (JB):                0.244\n",
      "Skew:                          -0.018   Prob(JB):                        0.885\n",
      "Kurtosis:                       3.002   Cond. No.                         1.40\n",
      "==============================================================================\n",
      "\n",
      "Warnings:\n",
      "[1] Standard Errors assume that the covariance matrix of the errors is correctly specified.\n"
     ]
    }
   ],
   "source": [
    "OLS_model(X,y)"
   ]
  },
  {
   "cell_type": "markdown",
   "metadata": {},
   "source": [
    "### 2. MLR with hours_final, age_at_sale and make (6117)"
   ]
  },
  {
   "cell_type": "code",
   "execution_count": 125,
   "metadata": {},
   "outputs": [],
   "source": [
    "y = df['winning_bid']\n",
    "X = df[['hours_final','age_at_sale','make']]\n",
    "X.reset_index(drop=True, inplace=True)\n",
    "y.reset_index(drop=True, inplace=True)\n",
    "make_encoded = sm.tools.categorical(X, col='make', drop=True)\n",
    "X_encoded = pd.concat([X, make_encoded],axis=1).drop(['make'],axis=1)"
   ]
  },
  {
   "cell_type": "code",
   "execution_count": 126,
   "metadata": {},
   "outputs": [
    {
     "name": "stdout",
     "output_type": "stream",
     "text": [
      "                            OLS Regression Results                            \n",
      "==============================================================================\n",
      "Dep. Variable:            winning_bid   R-squared:                       0.434\n",
      "Model:                            OLS   Adj. R-squared:                  0.430\n",
      "Method:                 Least Squares   F-statistic:                     97.73\n",
      "Date:                Mon, 02 Mar 2020   Prob (F-statistic):               0.00\n",
      "Time:                        02:48:03   Log-Likelihood:                -5285.2\n",
      "No. Observations:                4625   AIC:                         1.064e+04\n",
      "Df Residuals:                    4588   BIC:                         1.088e+04\n",
      "Df Model:                          36                                         \n",
      "Covariance Type:            nonrobust                                         \n",
      "=================================================================================\n",
      "                    coef    std err          t      P>|t|      [0.025      0.975]\n",
      "---------------------------------------------------------------------------------\n",
      "hours_final      -0.0292      0.012     -2.512      0.012      -0.052      -0.006\n",
      "age_at_sale      -0.6016      0.012    -50.022      0.000      -0.625      -0.578\n",
      "ALLU              0.8551      0.762      1.123      0.262      -0.638       2.348\n",
      "ASV              -0.1661      0.539     -0.308      0.758      -1.222       0.890\n",
      "BOBCAT            0.0016      0.017      0.094      0.925      -0.032       0.035\n",
      "CASE              0.0305      0.032      0.953      0.341      -0.032       0.093\n",
      "CATERPILLAR       0.2357      0.026      8.999      0.000       0.184       0.287\n",
      "CLARK            -1.5462      0.762     -2.030      0.042      -3.040      -0.053\n",
      "DAEWOO           -0.5697      0.254     -2.242      0.025      -1.068      -0.071\n",
      "DEERE            -0.0106      0.036     -0.293      0.770      -0.081       0.060\n",
      "DITCH WITCH      -1.1768      0.762     -1.545      0.123      -2.670       0.317\n",
      "DOOSAN           -0.6249      0.539     -1.160      0.246      -1.681       0.431\n",
      "GALLAGHER     -2.932e-15    5.2e-15     -0.563      0.573   -1.31e-14    7.27e-15\n",
      "GEHL             -0.4390      0.076     -5.763      0.000      -0.588      -0.290\n",
      "HYDRAMAC         -0.9008      0.341     -2.644      0.008      -1.569      -0.233\n",
      "HYUNDAI          -0.0123      0.762     -0.016      0.987      -1.506       1.481\n",
      "IHI           -7.661e-17   2.54e-15     -0.030      0.976   -5.06e-15    4.91e-15\n",
      "INTERNATIONAL    -1.9636      0.762     -2.578      0.010      -3.457      -0.470\n",
      "JCB               0.2227      0.131      1.704      0.088      -0.034       0.479\n",
      "KOMATSU          -0.4262      0.180     -2.374      0.018      -0.778      -0.074\n",
      "KUBOTA            0.6432      0.147      4.366      0.000       0.354       0.932\n",
      "MATTSON          -1.6648      0.242     -6.892      0.000      -2.138      -1.191\n",
      "MUSTANG          -0.3512      0.087     -4.017      0.000      -0.523      -0.180\n",
      "NEW HOLLAND      -0.1379      0.045     -3.051      0.002      -0.227      -0.049\n",
      "OMC              -1.6267      0.762     -2.136      0.033      -3.120      -0.133\n",
      "OWANTANA      -2.203e-15   7.45e-16     -2.959      0.003   -3.66e-15   -7.44e-16\n",
      "POWERHOUSE       -2.2376      0.762     -2.937      0.003      -3.731      -0.744\n",
      "PROTOUGH         -1.4044      0.762     -1.844      0.065      -2.898       0.089\n",
      "RACOON           -1.6877      0.762     -2.215      0.027      -3.181      -0.194\n",
      "SCAT TRAK        -0.1367      0.242     -0.566      0.571      -0.610       0.337\n",
      "SKYJACK          -1.0268      0.220     -4.668      0.000      -1.458      -0.596\n",
      "TAIAN TAMEC      -0.4427      0.762     -0.581      0.561      -1.936       1.051\n",
      "TAKEUCHI         -0.0796      0.197     -0.404      0.686      -0.466       0.307\n",
      "TEREX            -0.3656      0.101     -3.616      0.000      -0.564      -0.167\n",
      "THOMAS           -0.7438      0.185     -4.020      0.000      -1.107      -0.381\n",
      "TORO             -1.0879      0.381     -2.856      0.004      -1.835      -0.341\n",
      "TOYOTA            0.0182      0.762      0.024      0.981      -1.476       1.513\n",
      "VERMEER          -1.2305      0.440     -2.798      0.005      -2.093      -0.368\n",
      "VOLVO            -0.2852      0.106     -2.697      0.007      -0.493      -0.078\n",
      "WACKER NEUSON     0.5357      0.381      1.406      0.160      -0.211       1.283\n",
      "YANMAR                 0          0        nan        nan           0           0\n",
      "==============================================================================\n",
      "Omnibus:                        3.555   Durbin-Watson:                   2.004\n",
      "Prob(Omnibus):                  0.169   Jarque-Bera (JB):                3.745\n",
      "Skew:                           0.023   Prob(JB):                        0.154\n",
      "Kurtosis:                       3.131   Cond. No.                     3.96e+17\n",
      "==============================================================================\n",
      "\n",
      "Warnings:\n",
      "[1] Standard Errors assume that the covariance matrix of the errors is correctly specified.\n",
      "[2] The smallest eigenvalue is 3.81e-32. This might indicate that there are\n",
      "strong multicollinearity problems or that the design matrix is singular.\n"
     ]
    }
   ],
   "source": [
    "OLS_model(X_encoded, y)"
   ]
  },
  {
   "cell_type": "markdown",
   "metadata": {},
   "source": [
    "- Interesting observations (with significant p values):\n",
    "    - positive impact brands: CATERPILLAR, KUBOTA, WACKER NEUSON\n",
    "    - negative impact brands: DAEWOO, DITCH WITCH, GEHL, KOMATSU, MATTSON, MUSTANG, NEW HOLLAND, SKYJACK, TEREX, THOMAS, TORO, VERMEER, VOLVO"
   ]
  },
  {
   "cell_type": "markdown",
   "metadata": {},
   "source": [
    "### 3. MTRUK (96)"
   ]
  },
  {
   "cell_type": "code",
   "execution_count": 130,
   "metadata": {},
   "outputs": [],
   "source": [
    "mturk_data = \"./data/mturk_96.csv\"\n",
    "mturk = pd.read_csv(mturk_data)"
   ]
  },
  {
   "cell_type": "code",
   "execution_count": 131,
   "metadata": {},
   "outputs": [],
   "source": [
    "# right join the dataframe with mturk_100, throw in mlr\n",
    "# df.reset_index(drop=True, inplace=True)\n",
    "df_join = pd.merge(df,mturk, on=['unique_id'], how='right')"
   ]
  },
  {
   "cell_type": "code",
   "execution_count": 132,
   "metadata": {},
   "outputs": [],
   "source": [
    "# normalize\n",
    "def normalize_scaler(col):\n",
    "    std_scaler = preprocessing.StandardScaler()\n",
    "    df_join[col] = std_scaler.fit_transform(np.array(df_join[col]).reshape(-1, 1))\n",
    "\n",
    "num_col_list = ['body_rust_extent', 'buck_rust_extent','tread_wear','paint_brightness','cabin_blackness','dirt_level']\n",
    "for col in num_col_list:\n",
    "    normalize_scaler(col)"
   ]
  },
  {
   "cell_type": "markdown",
   "metadata": {},
   "source": [
    "#### (1) MLR with hours_final, age_at_sale (96)"
   ]
  },
  {
   "cell_type": "code",
   "execution_count": 53,
   "metadata": {},
   "outputs": [],
   "source": [
    "y = df_join['winning_bid']\n",
    "X = df_join[['hours_final','age_at_sale']]"
   ]
  },
  {
   "cell_type": "code",
   "execution_count": 54,
   "metadata": {},
   "outputs": [
    {
     "name": "stdout",
     "output_type": "stream",
     "text": [
      "                                 OLS Regression Results                                \n",
      "=======================================================================================\n",
      "Dep. Variable:            winning_bid   R-squared (uncentered):                   0.431\n",
      "Model:                            OLS   Adj. R-squared (uncentered):              0.414\n",
      "Method:                 Least Squares   F-statistic:                              26.48\n",
      "Date:                Mon, 02 Mar 2020   Prob (F-statistic):                    2.74e-09\n",
      "Time:                        02:30:55   Log-Likelihood:                         -89.703\n",
      "No. Observations:                  72   AIC:                                      183.4\n",
      "Df Residuals:                      70   BIC:                                      188.0\n",
      "Df Model:                           2                                                  \n",
      "Covariance Type:            nonrobust                                                  \n",
      "===============================================================================\n",
      "                  coef    std err          t      P>|t|      [0.025      0.975]\n",
      "-------------------------------------------------------------------------------\n",
      "hours_final    -0.5626      0.180     -3.118      0.003      -0.923      -0.203\n",
      "age_at_sale    -0.4964      0.096     -5.155      0.000      -0.688      -0.304\n",
      "==============================================================================\n",
      "Omnibus:                        0.487   Durbin-Watson:                   2.010\n",
      "Prob(Omnibus):                  0.784   Jarque-Bera (JB):                0.642\n",
      "Skew:                          -0.126   Prob(JB):                        0.726\n",
      "Kurtosis:                       2.613   Cond. No.                         2.07\n",
      "==============================================================================\n",
      "\n",
      "Warnings:\n",
      "[1] Standard Errors assume that the covariance matrix of the errors is correctly specified.\n"
     ]
    }
   ],
   "source": [
    "OLS_model(X, y)"
   ]
  },
  {
   "cell_type": "markdown",
   "metadata": {},
   "source": [
    "#### (2)  MLR with hours_final, age_at_sale and make (96)"
   ]
  },
  {
   "cell_type": "code",
   "execution_count": 55,
   "metadata": {},
   "outputs": [],
   "source": [
    "y = df_join['winning_bid']\n",
    "X = df_join[['hours_final','age_at_sale','make']]\n",
    "make_encoded = sm.tools.categorical(X, col='make', drop=True)\n",
    "X_encoded = pd.concat([X, make_encoded],axis=1).drop(['make'],axis=1)"
   ]
  },
  {
   "cell_type": "code",
   "execution_count": 56,
   "metadata": {},
   "outputs": [
    {
     "name": "stdout",
     "output_type": "stream",
     "text": [
      "                            OLS Regression Results                            \n",
      "==============================================================================\n",
      "Dep. Variable:            winning_bid   R-squared:                       0.570\n",
      "Model:                            OLS   Adj. R-squared:                  0.482\n",
      "Method:                 Least Squares   F-statistic:                     6.507\n",
      "Date:                Mon, 02 Mar 2020   Prob (F-statistic):           3.24e-07\n",
      "Time:                        02:31:00   Log-Likelihood:                -78.462\n",
      "No. Observations:                  72   AIC:                             182.9\n",
      "Df Residuals:                      59   BIC:                             212.5\n",
      "Df Model:                          12                                         \n",
      "Covariance Type:            nonrobust                                         \n",
      "===============================================================================\n",
      "                  coef    std err          t      P>|t|      [0.025      0.975]\n",
      "-------------------------------------------------------------------------------\n",
      "hours_final    -0.6033      0.176     -3.422      0.001      -0.956      -0.251\n",
      "age_at_sale    -0.4271      0.094     -4.564      0.000      -0.614      -0.240\n",
      "BOBCAT          0.3388      0.131      2.593      0.012       0.077       0.600\n",
      "CASE           -0.1122      0.357     -0.315      0.754      -0.826       0.601\n",
      "CATERPILLAR     1.3285      0.567      2.344      0.022       0.194       2.463\n",
      "DAEWOO         -0.8590      0.798     -1.076      0.286      -2.456       0.738\n",
      "DEERE           0.2380      0.265      0.897      0.373      -0.293       0.769\n",
      "GEHL           -0.5478      0.371     -1.477      0.145      -1.290       0.195\n",
      "MUSTANG        -0.1659      0.813     -0.204      0.839      -1.793       1.461\n",
      "NEW HOLLAND     0.2414      0.282      0.858      0.395      -0.322       0.805\n",
      "TAKEUCHI        0.9521      0.799      1.191      0.238      -0.647       2.551\n",
      "TEREX       -1.522e-16   7.05e-17     -2.160      0.035   -2.93e-16   -1.12e-17\n",
      "THOMAS         -0.9987      0.800     -1.248      0.217      -2.600       0.602\n",
      "VOLVO          -0.9677      0.800     -1.209      0.231      -2.569       0.633\n",
      "==============================================================================\n",
      "Omnibus:                        3.359   Durbin-Watson:                   2.225\n",
      "Prob(Omnibus):                  0.186   Jarque-Bera (JB):                3.312\n",
      "Skew:                          -0.495   Prob(JB):                        0.191\n",
      "Kurtosis:                       2.649   Cond. No.                     1.85e+17\n",
      "==============================================================================\n",
      "\n",
      "Warnings:\n",
      "[1] Standard Errors assume that the covariance matrix of the errors is correctly specified.\n",
      "[2] The smallest eigenvalue is 2.73e-33. This might indicate that there are\n",
      "strong multicollinearity problems or that the design matrix is singular.\n"
     ]
    }
   ],
   "source": [
    "OLS_model(X_encoded, y)"
   ]
  },
  {
   "cell_type": "markdown",
   "metadata": {},
   "source": [
    "#### (3) MLR with hours_final, age_at_sale and mturk data (96)"
   ]
  },
  {
   "cell_type": "code",
   "execution_count": 28,
   "metadata": {},
   "outputs": [],
   "source": [
    "y = df_join['winning_bid']\n",
    "X = df_join.drop(['unique_id','winning_bid','make','model','hours_final_nan','age_at_sale_nan','bucket_x','engine','tires','transmission'],axis=1)\n",
    "# X = X.fillna(11)"
   ]
  },
  {
   "cell_type": "code",
   "execution_count": 29,
   "metadata": {},
   "outputs": [
    {
     "name": "stdout",
     "output_type": "stream",
     "text": [
      "                                 OLS Regression Results                                \n",
      "=======================================================================================\n",
      "Dep. Variable:            winning_bid   R-squared (uncentered):                   0.559\n",
      "Model:                            OLS   Adj. R-squared (uncentered):              0.433\n",
      "Method:                 Least Squares   F-statistic:                              4.439\n",
      "Date:                Mon, 02 Mar 2020   Prob (F-statistic):                    1.55e-05\n",
      "Time:                        02:08:35   Log-Likelihood:                         -80.500\n",
      "No. Observations:                  72   AIC:                                      193.0\n",
      "Df Residuals:                      56   BIC:                                      229.4\n",
      "Df Model:                          16                                                  \n",
      "Covariance Type:            nonrobust                                                  \n",
      "==========================================================================================\n",
      "                             coef    std err          t      P>|t|      [0.025      0.975]\n",
      "------------------------------------------------------------------------------------------\n",
      "hours_final               -0.8571      0.238     -3.600      0.001      -1.334      -0.380\n",
      "age_at_sale               -0.3771      0.105     -3.599      0.001      -0.587      -0.167\n",
      "engine_sentiment           2.1806      1.014      2.151      0.036       0.150       4.212\n",
      "bucket_sentiment          -0.5210      0.894     -0.583      0.562      -2.312       1.270\n",
      "tires_sentiment        -8.078e-16   4.34e-16     -1.862      0.068   -1.68e-15    6.11e-17\n",
      "transmission_sentiment   4.77e-18   6.15e-16      0.008      0.994   -1.23e-15    1.24e-15\n",
      "bucket_y                  -0.5779      0.865     -0.668      0.507      -2.311       1.155\n",
      "sun                        0.1987      0.317      0.627      0.533      -0.436       0.833\n",
      "blue_sky                  -0.0410      0.268     -0.153      0.879      -0.579       0.497\n",
      "grass                     -0.1013      0.228     -0.444      0.658      -0.558       0.356\n",
      "cloud_snow                -0.0590      0.238     -0.248      0.805      -0.535       0.417\n",
      "outdoor                    0.6724      0.669      1.005      0.319      -0.668       2.013\n",
      "body_rust_extent          -0.0789      0.117     -0.674      0.503      -0.314       0.156\n",
      "buck_rust_extent          -0.1613      0.332     -0.487      0.628      -0.825       0.503\n",
      "tread_wear                -0.0439      0.123     -0.357      0.723      -0.290       0.203\n",
      "paint_brightness           0.0500      0.120      0.416      0.679      -0.191       0.291\n",
      "cabin_blackness            0.2007      0.124      1.625      0.110      -0.047       0.448\n",
      "dirt_level                -0.1391      0.144     -0.966      0.338      -0.427       0.149\n",
      "==============================================================================\n",
      "Omnibus:                        0.263   Durbin-Watson:                   2.032\n",
      "Prob(Omnibus):                  0.877   Jarque-Bera (JB):                0.344\n",
      "Skew:                           0.136   Prob(JB):                        0.842\n",
      "Kurtosis:                       2.798   Cond. No.                     6.07e+16\n",
      "==============================================================================\n",
      "\n",
      "Warnings:\n",
      "[1] Standard Errors assume that the covariance matrix of the errors is correctly specified.\n",
      "[2] The smallest eigenvalue is 6.11e-32. This might indicate that there are\n",
      "strong multicollinearity problems or that the design matrix is singular.\n"
     ]
    }
   ],
   "source": [
    "OLS_model(X,y)"
   ]
  },
  {
   "cell_type": "markdown",
   "metadata": {},
   "source": [
    "#### (4) MLR with hours_final, age_at_sale, make, parts_sentiment, mturk data (96)"
   ]
  },
  {
   "cell_type": "code",
   "execution_count": 138,
   "metadata": {},
   "outputs": [],
   "source": [
    "y = df_join['winning_bid']\n",
    "X = df_join.drop(['unique_id','winning_bid','model','hours_final_nan','age_at_sale_nan','bucket_x','engine','tires','transmission','score','engine_sentiment','bucket_sentiment','tires_sentiment','transmission_sentiment'],axis=1)\n",
    "make_encoded = sm.tools.categorical(X, col='make', drop=True)\n",
    "X_encoded = pd.concat([X, make_encoded],axis=1).drop(['make'],axis=1)"
   ]
  },
  {
   "cell_type": "code",
   "execution_count": 139,
   "metadata": {},
   "outputs": [
    {
     "name": "stdout",
     "output_type": "stream",
     "text": [
      "                            OLS Regression Results                            \n",
      "==============================================================================\n",
      "Dep. Variable:            winning_bid   R-squared:                       0.633\n",
      "Model:                            OLS   Adj. R-squared:                  0.446\n",
      "Method:                 Least Squares   F-statistic:                     3.378\n",
      "Date:                Mon, 02 Mar 2020   Prob (F-statistic):           0.000177\n",
      "Time:                        03:01:46   Log-Likelihood:                -74.364\n",
      "No. Observations:                  72   AIC:                             198.7\n",
      "Df Residuals:                      47   BIC:                             255.6\n",
      "Df Model:                          24                                         \n",
      "Covariance Type:            nonrobust                                         \n",
      "====================================================================================\n",
      "                       coef    std err          t      P>|t|      [0.025      0.975]\n",
      "------------------------------------------------------------------------------------\n",
      "hours_final         -0.7535      0.244     -3.085      0.003      -1.245      -0.262\n",
      "age_at_sale         -0.4003      0.109     -3.660      0.001      -0.620      -0.180\n",
      "bucket_y             1.4104      5.458      0.258      0.797      -9.570      12.391\n",
      "sun                  0.0177      0.364      0.049      0.961      -0.715       0.751\n",
      "blue_sky            -0.1371      0.312     -0.440      0.662      -0.764       0.490\n",
      "grass                0.1507      0.250      0.602      0.550      -0.353       0.654\n",
      "cloud_snow          -0.0938      0.256     -0.366      0.716      -0.609       0.422\n",
      "outdoor              0.6690      0.698      0.959      0.343      -0.735       2.073\n",
      "body_rust_extent    -0.1746      0.167     -1.043      0.302      -0.511       0.162\n",
      "buck_rust_extent     0.4263      2.053      0.208      0.836      -3.703       4.556\n",
      "tread_wear          -0.0669      0.143     -0.469      0.641      -0.354       0.220\n",
      "paint_brightness     0.0931      0.190      0.491      0.626      -0.288       0.475\n",
      "cabin_blackness      0.1693      0.141      1.198      0.237      -0.115       0.453\n",
      "dirt_level          -0.2582      0.170     -1.515      0.136      -0.601       0.085\n",
      "BOBCAT              -1.2975      4.524     -0.287      0.776     -10.398       7.803\n",
      "CASE                -1.8570      4.631     -0.401      0.690     -11.173       7.459\n",
      "CATERPILLAR          0.1352      4.643      0.029      0.977      -9.206       9.476\n",
      "DAEWOO              -3.2910      4.853     -0.678      0.501     -13.054       6.472\n",
      "DEERE               -1.4006      4.424     -0.317      0.753     -10.300       7.498\n",
      "GEHL                -2.1319      4.577     -0.466      0.644     -11.340       7.076\n",
      "MUSTANG             -1.7501      4.661     -0.375      0.709     -11.127       7.627\n",
      "NEW HOLLAND         -1.3721      4.509     -0.304      0.762     -10.442       7.698\n",
      "TAKEUCHI            -0.6696      4.654     -0.144      0.886     -10.033       8.693\n",
      "TEREX              -4.6e-16   4.63e-16     -0.993      0.326   -1.39e-15    4.72e-16\n",
      "THOMAS              -2.4539      4.704     -0.522      0.604     -11.918       7.010\n",
      "VOLVO               -2.6453      4.787     -0.553      0.583     -12.275       6.985\n",
      "==============================================================================\n",
      "Omnibus:                        2.709   Durbin-Watson:                   2.162\n",
      "Prob(Omnibus):                  0.258   Jarque-Bera (JB):                2.336\n",
      "Skew:                          -0.330   Prob(JB):                        0.311\n",
      "Kurtosis:                       2.415   Cond. No.                     1.48e+16\n",
      "==============================================================================\n",
      "\n",
      "Warnings:\n",
      "[1] Standard Errors assume that the covariance matrix of the errors is correctly specified.\n",
      "[2] The smallest eigenvalue is 1.14e-30. This might indicate that there are\n",
      "strong multicollinearity problems or that the design matrix is singular.\n"
     ]
    }
   ],
   "source": [
    "OLS_model(X_encoded,y)"
   ]
  },
  {
   "cell_type": "markdown",
   "metadata": {},
   "source": [
    "#### (5) MLR with everything"
   ]
  },
  {
   "cell_type": "code",
   "execution_count": 140,
   "metadata": {},
   "outputs": [],
   "source": [
    "y = df_join['winning_bid']\n",
    "X = df_join.drop(['unique_id','winning_bid','model','hours_final_nan','age_at_sale_nan','bucket_x','engine','tires','transmission'],axis=1)\n",
    "make_encoded = sm.tools.categorical(X, col='make', drop=True)\n",
    "X_encoded = pd.concat([X, make_encoded],axis=1).drop(['make'],axis=1)"
   ]
  },
  {
   "cell_type": "code",
   "execution_count": 141,
   "metadata": {},
   "outputs": [
    {
     "name": "stdout",
     "output_type": "stream",
     "text": [
      "                            OLS Regression Results                            \n",
      "==============================================================================\n",
      "Dep. Variable:            winning_bid   R-squared:                       0.676\n",
      "Model:                            OLS   Adj. R-squared:                  0.476\n",
      "Method:                 Least Squares   F-statistic:                     3.393\n",
      "Date:                Mon, 02 Mar 2020   Prob (F-statistic):           0.000158\n",
      "Time:                        03:02:32   Log-Likelihood:                -69.930\n",
      "No. Observations:                  72   AIC:                             195.9\n",
      "Df Residuals:                      44   BIC:                             259.6\n",
      "Df Model:                          27                                         \n",
      "Covariance Type:            nonrobust                                         \n",
      "==========================================================================================\n",
      "                             coef    std err          t      P>|t|      [0.025      0.975]\n",
      "------------------------------------------------------------------------------------------\n",
      "hours_final               -1.0378      0.266     -3.895      0.000      -1.575      -0.501\n",
      "age_at_sale               -0.3561      0.114     -3.131      0.003      -0.585      -0.127\n",
      "score                     -0.0950      0.178     -0.533      0.597      -0.454       0.264\n",
      "engine_sentiment           2.5831      1.091      2.367      0.022       0.384       4.782\n",
      "bucket_sentiment          -0.1623      0.950     -0.171      0.865      -2.077       1.753\n",
      "tires_sentiment          -1.2e-14   1.82e-14     -0.658      0.514   -4.88e-14    2.48e-14\n",
      "transmission_sentiment  8.106e-15   1.08e-14      0.749      0.458   -1.37e-14    2.99e-14\n",
      "bucket_y                   2.6307      5.458      0.482      0.632      -8.369      13.631\n",
      "sun                        0.0362      0.371      0.097      0.923      -0.712       0.785\n",
      "blue_sky                  -0.0666      0.345     -0.193      0.848      -0.761       0.628\n",
      "grass                      0.0932      0.245      0.381      0.705      -0.400       0.587\n",
      "cloud_snow                -0.1222      0.255     -0.480      0.634      -0.635       0.391\n",
      "outdoor                    0.9503      0.721      1.318      0.194      -0.503       2.404\n",
      "body_rust_extent          -0.1592      0.167     -0.952      0.346      -0.496       0.178\n",
      "buck_rust_extent           0.9131      2.052      0.445      0.659      -3.223       5.049\n",
      "tread_wear                -0.1154      0.141     -0.819      0.417      -0.399       0.169\n",
      "paint_brightness           0.0057      0.189      0.030      0.976      -0.374       0.386\n",
      "cabin_blackness            0.2029      0.140      1.445      0.156      -0.080       0.486\n",
      "dirt_level                -0.2590      0.167     -1.548      0.129      -0.596       0.078\n",
      "BOBCAT                    -2.5821      4.576     -0.564      0.575     -11.805       6.641\n",
      "CASE                      -2.6839      4.631     -0.579      0.565     -12.018       6.650\n",
      "CATERPILLAR               -1.1210      4.650     -0.241      0.811     -10.492       8.250\n",
      "DAEWOO                    -4.3607      4.845     -0.900      0.373     -14.125       5.404\n",
      "DEERE                     -2.6528      4.422     -0.600      0.552     -11.566       6.260\n",
      "GEHL                      -3.4100      4.586     -0.744      0.461     -12.652       5.832\n",
      "MUSTANG                   -2.9571      4.647     -0.636      0.528     -12.323       6.408\n",
      "NEW HOLLAND               -2.7340      4.548     -0.601      0.551     -11.900       6.432\n",
      "TAKEUCHI                  -1.7774      4.635     -0.383      0.703     -11.119       7.565\n",
      "TEREX                           0          0        nan        nan           0           0\n",
      "THOMAS                    -3.7486      4.753     -0.789      0.434     -13.327       5.830\n",
      "VOLVO                     -4.0824      4.882     -0.836      0.408     -13.922       5.757\n",
      "==============================================================================\n",
      "Omnibus:                        0.805   Durbin-Watson:                   2.266\n",
      "Prob(Omnibus):                  0.669   Jarque-Bera (JB):                0.895\n",
      "Skew:                          -0.228   Prob(JB):                        0.639\n",
      "Kurtosis:                       2.701   Cond. No.                     1.51e+16\n",
      "==============================================================================\n",
      "\n",
      "Warnings:\n",
      "[1] Standard Errors assume that the covariance matrix of the errors is correctly specified.\n",
      "[2] The smallest eigenvalue is 1.09e-30. This might indicate that there are\n",
      "strong multicollinearity problems or that the design matrix is singular.\n"
     ]
    }
   ],
   "source": [
    "OLS_model(X_encoded,y)"
   ]
  },
  {
   "cell_type": "markdown",
   "metadata": {},
   "source": [
    "#### (5) H2O Random Forest Regressor"
   ]
  },
  {
   "cell_type": "code",
   "execution_count": 142,
   "metadata": {},
   "outputs": [],
   "source": [
    "import h2o\n",
    "from h2o.frame import H2OFrame\n",
    "from h2o.estimators.random_forest import H2ORandomForestEstimator\n",
    "from h2o.grid.grid_search import H2OGridSearch"
   ]
  },
  {
   "cell_type": "code",
   "execution_count": 166,
   "metadata": {},
   "outputs": [
    {
     "name": "stdout",
     "output_type": "stream",
     "text": [
      "Checking whether there is an H2O instance running at http://localhost:54321 . connected.\n"
     ]
    },
    {
     "data": {
      "text/html": [
       "<div style=\"overflow:auto\"><table style=\"width:50%\"><tr><td>H2O cluster uptime:</td>\n",
       "<td>2 hours 36 mins</td></tr>\n",
       "<tr><td>H2O cluster timezone:</td>\n",
       "<td>Etc/UTC</td></tr>\n",
       "<tr><td>H2O data parsing timezone:</td>\n",
       "<td>UTC</td></tr>\n",
       "<tr><td>H2O cluster version:</td>\n",
       "<td>3.28.0.3</td></tr>\n",
       "<tr><td>H2O cluster version age:</td>\n",
       "<td>25 days </td></tr>\n",
       "<tr><td>H2O cluster name:</td>\n",
       "<td>H2O_from_python_deepecholiu_67i8j3</td></tr>\n",
       "<tr><td>H2O cluster total nodes:</td>\n",
       "<td>1</td></tr>\n",
       "<tr><td>H2O cluster free memory:</td>\n",
       "<td>846 Mb</td></tr>\n",
       "<tr><td>H2O cluster total cores:</td>\n",
       "<td>1</td></tr>\n",
       "<tr><td>H2O cluster allowed cores:</td>\n",
       "<td>1</td></tr>\n",
       "<tr><td>H2O cluster status:</td>\n",
       "<td>locked, healthy</td></tr>\n",
       "<tr><td>H2O connection url:</td>\n",
       "<td>http://localhost:54321</td></tr>\n",
       "<tr><td>H2O connection proxy:</td>\n",
       "<td>{'http': None, 'https': None}</td></tr>\n",
       "<tr><td>H2O internal security:</td>\n",
       "<td>False</td></tr>\n",
       "<tr><td>H2O API Extensions:</td>\n",
       "<td>Amazon S3, XGBoost, Algos, AutoML, Core V3, TargetEncoder, Core V4</td></tr>\n",
       "<tr><td>Python version:</td>\n",
       "<td>3.7.5 final</td></tr></table></div>"
      ],
      "text/plain": [
       "--------------------------  ------------------------------------------------------------------\n",
       "H2O cluster uptime:         2 hours 36 mins\n",
       "H2O cluster timezone:       Etc/UTC\n",
       "H2O data parsing timezone:  UTC\n",
       "H2O cluster version:        3.28.0.3\n",
       "H2O cluster version age:    25 days\n",
       "H2O cluster name:           H2O_from_python_deepecholiu_67i8j3\n",
       "H2O cluster total nodes:    1\n",
       "H2O cluster free memory:    846 Mb\n",
       "H2O cluster total cores:    1\n",
       "H2O cluster allowed cores:  1\n",
       "H2O cluster status:         locked, healthy\n",
       "H2O connection url:         http://localhost:54321\n",
       "H2O connection proxy:       {'http': None, 'https': None}\n",
       "H2O internal security:      False\n",
       "H2O API Extensions:         Amazon S3, XGBoost, Algos, AutoML, Core V3, TargetEncoder, Core V4\n",
       "Python version:             3.7.5 final\n",
       "--------------------------  ------------------------------------------------------------------"
      ]
     },
     "metadata": {},
     "output_type": "display_data"
    }
   ],
   "source": [
    "h2o.init()\n",
    "h2o.remove_all()"
   ]
  },
  {
   "cell_type": "code",
   "execution_count": 167,
   "metadata": {},
   "outputs": [
    {
     "name": "stdout",
     "output_type": "stream",
     "text": [
      "Parse progress: |█████████████████████████████████████████████████████████| 100%\n"
     ]
    },
    {
     "data": {
      "text/html": [
       "<table>\n",
       "<thead>\n",
       "<tr><th>       </th><th>unique_id     </th><th>make       </th><th>model  </th><th>hours_final_nan     </th><th>winning_bid          </th><th>age_at_sale_nan    </th><th>hours_final         </th><th>age_at_sale         </th><th>score               </th><th>bucket_x                                        </th><th>engine                                                     </th><th>tires                  </th><th>transmission             </th><th>engine_sentiment  </th><th>bucket_sentiment     </th><th>tires_sentiment  </th><th>transmission_sentiment  </th><th>bucket_y  </th><th>sun  </th><th>blue_sky  </th><th>grass  </th><th>cloud_snow  </th><th>outdoor  </th><th>body_rust_extent     </th><th>buck_rust_extent      </th><th>tread_wear            </th><th>paint_brightness     </th><th>cabin_blackness      </th><th>dirt_level           </th></tr>\n",
       "</thead>\n",
       "<tbody>\n",
       "<tr><td>type   </td><td>string        </td><td>enum       </td><td>enum   </td><td>int                 </td><td>real                 </td><td>int                </td><td>real                </td><td>real                </td><td>real                </td><td>enum                                            </td><td>enum                                                       </td><td>enum                   </td><td>enum                     </td><td>enum              </td><td>int                  </td><td>int              </td><td>int                     </td><td>enum      </td><td>enum </td><td>enum      </td><td>enum   </td><td>enum        </td><td>enum     </td><td>real                 </td><td>real                  </td><td>real                  </td><td>real                 </td><td>real                 </td><td>real                 </td></tr>\n",
       "<tr><td>mins   </td><td>NaN           </td><td>           </td><td>       </td><td>0.0                 </td><td>-2.061765271448536   </td><td>0.0                </td><td>-1.737345266065624  </td><td>-1.4745457931895276 </td><td>-2.2816507237266177 </td><td>                                                </td><td>                                                           </td><td>                       </td><td>                         </td><td>                  </td><td>-1.0                 </td><td>0.0              </td><td>0.0                     </td><td>          </td><td>     </td><td>          </td><td>       </td><td>            </td><td>         </td><td>-2.1324907336263013  </td><td>-0.5866561988897826   </td><td>-2.686576835431791    </td><td>-2.0568320671766647  </td><td>-3.138335072620883   </td><td>-3.070659946546774   </td></tr>\n",
       "<tr><td>mean   </td><td>NaN           </td><td>           </td><td>       </td><td>0.010416666666666666</td><td>0.1976256569115189   </td><td>0.08333333333333333</td><td>0.10895263485110987 </td><td>-0.06390212686235516</td><td>-0.16470685706780436</td><td>                                                </td><td>                                                           </td><td>                       </td><td>                         </td><td>                  </td><td>-0.010416666666666666</td><td>0.0              </td><td>0.0                     </td><td>          </td><td>     </td><td>          </td><td>       </td><td>            </td><td>         </td><td>5.551115123125783e-17</td><td>-2.949029909160572e-17</td><td>-2.393918396847994e-16</td><td>5.377642775528102e-17</td><td>7.979727989493313e-17</td><td>5.204170427930421e-17</td></tr>\n",
       "<tr><td>maxs   </td><td>NaN           </td><td>           </td><td>       </td><td>1.0                 </td><td>2.3557434498463152   </td><td>1.0                </td><td>0.9942494464409128  </td><td>3.4678553735042152  </td><td>2.163012493092647   </td><td>                                                </td><td>                                                           </td><td>                       </td><td>                         </td><td>                  </td><td>0.0                  </td><td>0.0              </td><td>0.0                     </td><td>          </td><td>     </td><td>          </td><td>       </td><td>            </td><td>         </td><td>2.4288536625015964   </td><td>2.1508730217436347    </td><td>1.912250594519768     </td><td>1.6035829044041414   </td><td>1.8920246224988349   </td><td>1.9134792869969377   </td></tr>\n",
       "<tr><td>sigma  </td><td>NaN           </td><td>           </td><td>       </td><td>0.10206207261596575 </td><td>1.1474234863396495   </td><td>0.27783625115549687</td><td>0.514106152782626   </td><td>1.0945856050739948  </td><td>0.9594571039600708  </td><td>                                                </td><td>                                                           </td><td>                       </td><td>                         </td><td>                  </td><td>0.10206207261596575  </td><td>0.0              </td><td>0.0                     </td><td>          </td><td>     </td><td>          </td><td>       </td><td>            </td><td>         </td><td>1.0052493799000688   </td><td>1.0052493799000692    </td><td>1.0052493799000692    </td><td>1.0052493799000692   </td><td>1.005249379900069    </td><td>1.0052493799000692   </td></tr>\n",
       "<tr><td>zeros  </td><td>0             </td><td>           </td><td>       </td><td>95                  </td><td>0                    </td><td>88                 </td><td>0                   </td><td>0                   </td><td>0                   </td><td>                                                </td><td>                                                           </td><td>                       </td><td>                         </td><td>                  </td><td>95                   </td><td>96               </td><td>96                      </td><td>          </td><td>     </td><td>          </td><td>       </td><td>            </td><td>         </td><td>0                    </td><td>0                     </td><td>0                     </td><td>0                    </td><td>0                    </td><td>0                    </td></tr>\n",
       "<tr><td>missing</td><td>0             </td><td>0          </td><td>0      </td><td>0                   </td><td>0                    </td><td>0                  </td><td>0                   </td><td>0                   </td><td>0                   </td><td>0                                               </td><td>0                                                          </td><td>0                      </td><td>0                        </td><td>0                 </td><td>0                    </td><td>0                </td><td>0                       </td><td>0         </td><td>0    </td><td>0         </td><td>0      </td><td>0           </td><td>0        </td><td>0                    </td><td>0                     </td><td>0                     </td><td>0                    </td><td>0                    </td><td>0                    </td></tr>\n",
       "<tr><td>0      </td><td>bigiron_AF1307</td><td>BOBCAT     </td><td>T750   </td><td>0.0                 </td><td>1.8538668159822111   </td><td>0.0                </td><td>-0.08522795445955443</td><td>-1.4745457931895276 </td><td>-0.7950086262653282 </td><td>nan                                             </td><td>nan                                                        </td><td>nan                    </td><td>nan                      </td><td>0.0               </td><td>0.0                  </td><td>0.0              </td><td>0.0                     </td><td>0         </td><td>1    </td><td>1         </td><td>0      </td><td>1           </td><td>1        </td><td>-0.8879220034413361  </td><td>2.1508730217436347    </td><td>-1.0934495502291723   </td><td>1.4585724673547218   </td><td>0.06217988326591278  </td><td>-0.9346002750280402  </td></tr>\n",
       "<tr><td>1      </td><td>bigiron_AF1274</td><td>BOBCAT     </td><td>T590 T4</td><td>0.0                 </td><td>1.8358145900664344   </td><td>0.0                </td><td>-0.5051892154106192 </td><td>-1.4745457931895276 </td><td>-0.8037889187345136 </td><td>74\" Bucket                                      </td><td>Kubota Engine                                              </td><td>16\" Tracks             </td><td>nan                      </td><td>0.0               </td><td>0.0                  </td><td>0.0              </td><td>0.0                     </td><td>1         </td><td>1    </td><td>1         </td><td>0      </td><td>0           </td><td>1        </td><td>-1.3048525280532994  </td><td>-0.4851740550541802   </td><td>0.14387930794486126   </td><td>0.14029576690545184  </td><td>0.5213544058449606   </td><td>0.9664928326236324   </td></tr>\n",
       "<tr><td>2      </td><td>bigiron_AE6184</td><td>GEHL       </td><td>SL5625 </td><td>0.0                 </td><td>-1.408953531942828   </td><td>0.0                </td><td>0.44920369930958515 </td><td>1.490894906826718   </td><td>-0.389997695980042  </td><td>66\" Bucket                                      </td><td>60 HP Perkins Diesel Engine                                </td><td>Tires: 12X16.5         </td><td>Hydrostatic Transmission </td><td>0.0               </td><td>0.0                  </td><td>0.0              </td><td>0.0                     </td><td>0         </td><td>1    </td><td>0         </td><td>0      </td><td>0           </td><td>1        </td><td>0.7735772513555925   </td><td>2.1508730217436347    </td><td>-0.5624071218282997   </td><td>-1.7668111930778252  </td><td>-1.0823297476400722  </td><td>-1.169566838895101   </td></tr>\n",
       "<tr><td>3      </td><td>bigiron_AF1287</td><td>BOBCAT     </td><td>S850   </td><td>0.0                 </td><td>1.907141660073546    </td><td>0.0                </td><td>-0.18073299585515973</td><td>-0.9803056765201532 </td><td>-0.7492343377989078 </td><td>80\" Bucket                                      </td><td>Kubota Engine                                              </td><td>Tires 12-16.5          </td><td>nan                      </td><td>0.0               </td><td>0.0                  </td><td>0.0              </td><td>0.0                     </td><td>1         </td><td>1    </td><td>1         </td><td>0      </td><td>0           </td><td>1        </td><td>1.3958616164480753   </td><td>-0.4483971473426403   </td><td>1.3812081661188949    </td><td>1.4585724673547218   </td><td>1.6590106856676765   </td><td>0.254472942117388    </td></tr>\n",
       "<tr><td>4      </td><td>bigiron_AC8632</td><td>NEW HOLLAND</td><td>LS190  </td><td>0.0                 </td><td>0.6942014471614706   </td><td>0.0                </td><td>0.19788468774766396 </td><td>0.5024146734879694  </td><td>-0.5539782835433679 </td><td>5 1/2' Bucket, Hydraulic Bucket Disconnect      </td><td>304 Cubic Diesel Engine, 81 HP                             </td><td>Tires 14-7             </td><td>nan                      </td><td>0.0               </td><td>0.0                  </td><td>0.0              </td><td>0.0                     </td><td>1         </td><td>1    </td><td>1         </td><td>0      </td><td>0           </td><td>1        </td><td>0.15129288626310983  </td><td>-0.5222274808688142   </td><td>0.674921736345734     </td><td>-1.7668111930778252  </td><td>-0.6231552250610243  </td><td>0.254472942117388    </td></tr>\n",
       "<tr><td>5      </td><td>bigiron_AK0093</td><td>CASE       </td><td>SV185  </td><td>0.0                 </td><td>-0.6655528758983439  </td><td>0.0                </td><td>0.7415466345150274  </td><td>-1.4745457931895276 </td><td>0.9508352603056178  </td><td>nan                                             </td><td>ISM 844LTA-DI-F-45/E4 4 Cylinder 60 Gross Horsepower Engine</td><td>Galaxy 10.00X16.5 Tires</td><td>2 Speed Hydrostatic Drive</td><td>0.0               </td><td>0.0                  </td><td>0.0              </td><td>0.0                     </td><td>0         </td><td>1    </td><td>1         </td><td>1      </td><td>0           </td><td>1        </td><td>-1.715560209014338   </td><td>2.1508730217436347    </td><td>0.499677734973446     </td><td>-1.6174065003602414  </td><td>-0.6231552250610243  </td><td>-0.45754694838885646 </td></tr>\n",
       "<tr><td>6      </td><td>bigiron_BN0484</td><td>VOLVO      </td><td>MC70B  </td><td>0.0                 </td><td>-0.34664916228517617 </td><td>0.0                </td><td>-0.22112667681711656</td><td>-0.9803056765201532 </td><td>-0.5833967858159842 </td><td>66\" Detachable Bucket                           </td><td>Diesel Engine Producing 53 Net Horsepower                  </td><td>10-16.5 Tires          </td><td>nan                      </td><td>0.0               </td><td>0.0                  </td><td>0.0              </td><td>0.0                     </td><td>1         </td><td>0    </td><td>1         </td><td>0      </td><td>0           </td><td>1        </td><td>-1.0932758439218555  </td><td>-0.4483971473426403   </td><td>0.499677734973446     </td><td>-0.8879600594449787  </td><td>-0.8493158108089136  </td><td>-0.22258038452179577 </td></tr>\n",
       "<tr><td>7      </td><td>bigiron_BK0136</td><td>NEW HOLLAND</td><td>L185   </td><td>0.0                 </td><td>-0.025499417766691124</td><td>0.0                </td><td>0.27198148810862915 </td><td>-0.4860655598507791 </td><td>1.4020163502009455  </td><td>Bucket 60\" Wide, Front Loading Bucket Is 5'     </td><td>Perkins Engine                                             </td><td>Tires 12-16.5 NHS      </td><td>Hydrostatic Transmission </td><td>0.0               </td><td>0.0                  </td><td>0.0              </td><td>0.0                     </td><td>1         </td><td>1    </td><td>1         </td><td>0      </td><td>0           </td><td>1        </td><td>-0.6825681629608168  </td><td>-0.4483971473426403   </td><td>-0.2119191190837235   </td><td>0.14029576690545184  </td><td>0.28834046901380206  </td><td>0.48943950598444874  </td></tr>\n",
       "<tr><td>8      </td><td>bigiron_AE2052</td><td>BOBCAT     </td><td>S150   </td><td>0.0                 </td><td>-0.8694473291340025  </td><td>0.0                </td><td>0.5436389998226971  </td><td>0.008174556818595184</td><td>0.2302416058228041  </td><td>66\" Bucket With Tooth Bar, Manual Bucket Coupler</td><td>Kubota 46 HP Diesel Engine                                 </td><td>10-16.5 Tires          </td><td>Hydrostatic Transmission </td><td>0.0               </td><td>0.0                  </td><td>0.0              </td><td>0.0                     </td><td>1         </td><td>1    </td><td>0         </td><td>1      </td><td>0           </td><td>1        </td><td>2.2234998220210773   </td><td>-0.4207453370332119   </td><td>-0.5624071218282997   </td><td>-0.15411936286155176 </td><td>0.28834046901380206  </td><td>-1.169566838895101   </td></tr>\n",
       "<tr><td>9      </td><td>bigiron_AF1280</td><td>BOBCAT     </td><td>S530 T4</td><td>0.0                 </td><td>1.1111318923801197   </td><td>0.0                </td><td>-0.5343296356995679 </td><td>-1.4745457931895276 </td><td>0.18124921358541848 </td><td>68\" Bucket                                      </td><td>Bobcat Engine                                              </td><td>10-16.5 Tires          </td><td>nan                      </td><td>0.0               </td><td>0.0                  </td><td>0.0              </td><td>0.0                     </td><td>1         </td><td>1    </td><td>1         </td><td>0      </td><td>0           </td><td>1        </td><td>0.15129288626310983  </td><td>-0.4207453370332119   </td><td>-0.2119191190837235   </td><td>1.4585724673547218   </td><td>1.4328500999197868   </td><td>-0.22258038452179577 </td></tr>\n",
       "</tbody>\n",
       "</table>"
      ]
     },
     "metadata": {},
     "output_type": "display_data"
    }
   ],
   "source": [
    "h2o_df = H2OFrame(df_join)\n",
    "\n",
    "def factorize(col):\n",
    "    h2o_df[col] = h2o_df[col].asfactor()\n",
    "    \n",
    "cat_col_list = ['bucket_y', 'sun','blue_sky','grass','cloud_snow','outdoor']\n",
    "for col in cat_col_list:\n",
    "    factorize(col)\n",
    "\n",
    "h2o_df.summary()"
   ]
  },
  {
   "cell_type": "code",
   "execution_count": 168,
   "metadata": {},
   "outputs": [],
   "source": [
    "train,test,valid = h2o_df.split_frame(ratios=[.8, .1])\n",
    "\n",
    "feature = [e for e in df_join.columns.to_list() if e not in ('unique_id', 'model','hours_final_nan','winning_bid','age_at_sale_nan','bucket_x','engine','tires','transmission')]\n",
    "target = 'winning_bid'"
   ]
  },
  {
   "cell_type": "code",
   "execution_count": 169,
   "metadata": {},
   "outputs": [
    {
     "name": "stdout",
     "output_type": "stream",
     "text": [
      "drf Model Build progress: |███████████████████████████████████████████████| 100%\n"
     ]
    }
   ],
   "source": [
    "model = H2ORandomForestEstimator(ntrees=100, max_depth=10, sample_rate = 0.8, mtries=3, seed=42, score_each_iteration=True)\n",
    "model.train(x=feature, y=target, training_frame=train)"
   ]
  },
  {
   "cell_type": "code",
   "execution_count": 170,
   "metadata": {},
   "outputs": [
    {
     "name": "stdout",
     "output_type": "stream",
     "text": [
      "drf prediction progress: |████████████████████████████████████████████████| 100%\n"
     ]
    }
   ],
   "source": [
    "predict = model.predict(test)"
   ]
  },
  {
   "cell_type": "code",
   "execution_count": 171,
   "metadata": {},
   "outputs": [
    {
     "name": "stdout",
     "output_type": "stream",
     "text": [
      "Model Details\n",
      "=============\n",
      "H2ORandomForestEstimator :  Distributed Random Forest\n",
      "Model Key:  DRF_model_python_1583114951691_3\n",
      "\n",
      "\n",
      "Model Summary: \n"
     ]
    },
    {
     "data": {
      "text/html": [
       "<div>\n",
       "<style scoped>\n",
       "    .dataframe tbody tr th:only-of-type {\n",
       "        vertical-align: middle;\n",
       "    }\n",
       "\n",
       "    .dataframe tbody tr th {\n",
       "        vertical-align: top;\n",
       "    }\n",
       "\n",
       "    .dataframe thead th {\n",
       "        text-align: right;\n",
       "    }\n",
       "</style>\n",
       "<table border=\"1\" class=\"dataframe\">\n",
       "  <thead>\n",
       "    <tr style=\"text-align: right;\">\n",
       "      <th></th>\n",
       "      <th></th>\n",
       "      <th>number_of_trees</th>\n",
       "      <th>number_of_internal_trees</th>\n",
       "      <th>model_size_in_bytes</th>\n",
       "      <th>min_depth</th>\n",
       "      <th>max_depth</th>\n",
       "      <th>mean_depth</th>\n",
       "      <th>min_leaves</th>\n",
       "      <th>max_leaves</th>\n",
       "      <th>mean_leaves</th>\n",
       "    </tr>\n",
       "  </thead>\n",
       "  <tbody>\n",
       "    <tr>\n",
       "      <th>0</th>\n",
       "      <td></td>\n",
       "      <td>100.0</td>\n",
       "      <td>100.0</td>\n",
       "      <td>77009.0</td>\n",
       "      <td>9.0</td>\n",
       "      <td>10.0</td>\n",
       "      <td>9.98</td>\n",
       "      <td>39.0</td>\n",
       "      <td>70.0</td>\n",
       "      <td>56.65</td>\n",
       "    </tr>\n",
       "  </tbody>\n",
       "</table>\n",
       "</div>"
      ],
      "text/plain": [
       "     number_of_trees  number_of_internal_trees  model_size_in_bytes  \\\n",
       "0              100.0                     100.0              77009.0   \n",
       "\n",
       "   min_depth  max_depth  mean_depth  min_leaves  max_leaves  mean_leaves  \n",
       "0        9.0       10.0        9.98        39.0        70.0        56.65  "
      ]
     },
     "metadata": {},
     "output_type": "display_data"
    },
    {
     "name": "stdout",
     "output_type": "stream",
     "text": [
      "\n",
      "\n",
      "ModelMetricsRegression: drf\n",
      "** Reported on train data. **\n",
      "\n",
      "MSE: 0.7898324650944513\n",
      "RMSE: 0.888725190986759\n",
      "MAE: 0.7202778560080167\n",
      "RMSLE: NaN\n",
      "Mean Residual Deviance: 0.7898324650944513\n",
      "\n",
      "Scoring History: \n"
     ]
    },
    {
     "data": {
      "text/html": [
       "<div>\n",
       "<style scoped>\n",
       "    .dataframe tbody tr th:only-of-type {\n",
       "        vertical-align: middle;\n",
       "    }\n",
       "\n",
       "    .dataframe tbody tr th {\n",
       "        vertical-align: top;\n",
       "    }\n",
       "\n",
       "    .dataframe thead th {\n",
       "        text-align: right;\n",
       "    }\n",
       "</style>\n",
       "<table border=\"1\" class=\"dataframe\">\n",
       "  <thead>\n",
       "    <tr style=\"text-align: right;\">\n",
       "      <th></th>\n",
       "      <th></th>\n",
       "      <th>timestamp</th>\n",
       "      <th>duration</th>\n",
       "      <th>number_of_trees</th>\n",
       "      <th>training_rmse</th>\n",
       "      <th>training_mae</th>\n",
       "      <th>training_deviance</th>\n",
       "    </tr>\n",
       "  </thead>\n",
       "  <tbody>\n",
       "    <tr>\n",
       "      <th>0</th>\n",
       "      <td></td>\n",
       "      <td>2020-03-02 04:46:08</td>\n",
       "      <td>0.000 sec</td>\n",
       "      <td>0.0</td>\n",
       "      <td>NaN</td>\n",
       "      <td>NaN</td>\n",
       "      <td>NaN</td>\n",
       "    </tr>\n",
       "    <tr>\n",
       "      <th>1</th>\n",
       "      <td></td>\n",
       "      <td>2020-03-02 04:46:08</td>\n",
       "      <td>0.016 sec</td>\n",
       "      <td>1.0</td>\n",
       "      <td>1.229797</td>\n",
       "      <td>0.871991</td>\n",
       "      <td>1.512401</td>\n",
       "    </tr>\n",
       "    <tr>\n",
       "      <th>2</th>\n",
       "      <td></td>\n",
       "      <td>2020-03-02 04:46:08</td>\n",
       "      <td>0.023 sec</td>\n",
       "      <td>2.0</td>\n",
       "      <td>1.162234</td>\n",
       "      <td>0.858348</td>\n",
       "      <td>1.350787</td>\n",
       "    </tr>\n",
       "    <tr>\n",
       "      <th>3</th>\n",
       "      <td></td>\n",
       "      <td>2020-03-02 04:46:08</td>\n",
       "      <td>0.030 sec</td>\n",
       "      <td>3.0</td>\n",
       "      <td>1.156572</td>\n",
       "      <td>0.909497</td>\n",
       "      <td>1.337658</td>\n",
       "    </tr>\n",
       "    <tr>\n",
       "      <th>4</th>\n",
       "      <td></td>\n",
       "      <td>2020-03-02 04:46:08</td>\n",
       "      <td>0.039 sec</td>\n",
       "      <td>4.0</td>\n",
       "      <td>1.215039</td>\n",
       "      <td>0.965810</td>\n",
       "      <td>1.476319</td>\n",
       "    </tr>\n",
       "    <tr>\n",
       "      <th>5</th>\n",
       "      <td></td>\n",
       "      <td>2020-03-02 04:46:08</td>\n",
       "      <td>0.049 sec</td>\n",
       "      <td>5.0</td>\n",
       "      <td>1.204685</td>\n",
       "      <td>0.919465</td>\n",
       "      <td>1.451266</td>\n",
       "    </tr>\n",
       "    <tr>\n",
       "      <th>6</th>\n",
       "      <td></td>\n",
       "      <td>2020-03-02 04:46:08</td>\n",
       "      <td>0.065 sec</td>\n",
       "      <td>6.0</td>\n",
       "      <td>1.213598</td>\n",
       "      <td>0.918485</td>\n",
       "      <td>1.472820</td>\n",
       "    </tr>\n",
       "    <tr>\n",
       "      <th>7</th>\n",
       "      <td></td>\n",
       "      <td>2020-03-02 04:46:08</td>\n",
       "      <td>0.068 sec</td>\n",
       "      <td>7.0</td>\n",
       "      <td>1.164610</td>\n",
       "      <td>0.902489</td>\n",
       "      <td>1.356318</td>\n",
       "    </tr>\n",
       "    <tr>\n",
       "      <th>8</th>\n",
       "      <td></td>\n",
       "      <td>2020-03-02 04:46:08</td>\n",
       "      <td>0.079 sec</td>\n",
       "      <td>8.0</td>\n",
       "      <td>1.196100</td>\n",
       "      <td>0.925008</td>\n",
       "      <td>1.430654</td>\n",
       "    </tr>\n",
       "    <tr>\n",
       "      <th>9</th>\n",
       "      <td></td>\n",
       "      <td>2020-03-02 04:46:08</td>\n",
       "      <td>0.085 sec</td>\n",
       "      <td>9.0</td>\n",
       "      <td>1.141688</td>\n",
       "      <td>0.872258</td>\n",
       "      <td>1.303452</td>\n",
       "    </tr>\n",
       "    <tr>\n",
       "      <th>10</th>\n",
       "      <td></td>\n",
       "      <td>2020-03-02 04:46:08</td>\n",
       "      <td>0.095 sec</td>\n",
       "      <td>10.0</td>\n",
       "      <td>1.083134</td>\n",
       "      <td>0.806967</td>\n",
       "      <td>1.173179</td>\n",
       "    </tr>\n",
       "    <tr>\n",
       "      <th>11</th>\n",
       "      <td></td>\n",
       "      <td>2020-03-02 04:46:08</td>\n",
       "      <td>0.101 sec</td>\n",
       "      <td>11.0</td>\n",
       "      <td>1.068129</td>\n",
       "      <td>0.792516</td>\n",
       "      <td>1.140900</td>\n",
       "    </tr>\n",
       "    <tr>\n",
       "      <th>12</th>\n",
       "      <td></td>\n",
       "      <td>2020-03-02 04:46:08</td>\n",
       "      <td>0.107 sec</td>\n",
       "      <td>12.0</td>\n",
       "      <td>1.068173</td>\n",
       "      <td>0.793932</td>\n",
       "      <td>1.140993</td>\n",
       "    </tr>\n",
       "    <tr>\n",
       "      <th>13</th>\n",
       "      <td></td>\n",
       "      <td>2020-03-02 04:46:08</td>\n",
       "      <td>0.111 sec</td>\n",
       "      <td>13.0</td>\n",
       "      <td>1.029302</td>\n",
       "      <td>0.774453</td>\n",
       "      <td>1.059463</td>\n",
       "    </tr>\n",
       "    <tr>\n",
       "      <th>14</th>\n",
       "      <td></td>\n",
       "      <td>2020-03-02 04:46:08</td>\n",
       "      <td>0.116 sec</td>\n",
       "      <td>14.0</td>\n",
       "      <td>1.058218</td>\n",
       "      <td>0.783177</td>\n",
       "      <td>1.119825</td>\n",
       "    </tr>\n",
       "    <tr>\n",
       "      <th>15</th>\n",
       "      <td></td>\n",
       "      <td>2020-03-02 04:46:08</td>\n",
       "      <td>0.126 sec</td>\n",
       "      <td>15.0</td>\n",
       "      <td>1.010607</td>\n",
       "      <td>0.752455</td>\n",
       "      <td>1.021326</td>\n",
       "    </tr>\n",
       "    <tr>\n",
       "      <th>16</th>\n",
       "      <td></td>\n",
       "      <td>2020-03-02 04:46:08</td>\n",
       "      <td>0.129 sec</td>\n",
       "      <td>16.0</td>\n",
       "      <td>0.997513</td>\n",
       "      <td>0.754709</td>\n",
       "      <td>0.995032</td>\n",
       "    </tr>\n",
       "    <tr>\n",
       "      <th>17</th>\n",
       "      <td></td>\n",
       "      <td>2020-03-02 04:46:08</td>\n",
       "      <td>0.132 sec</td>\n",
       "      <td>17.0</td>\n",
       "      <td>0.969142</td>\n",
       "      <td>0.746586</td>\n",
       "      <td>0.939236</td>\n",
       "    </tr>\n",
       "    <tr>\n",
       "      <th>18</th>\n",
       "      <td></td>\n",
       "      <td>2020-03-02 04:46:08</td>\n",
       "      <td>0.140 sec</td>\n",
       "      <td>18.0</td>\n",
       "      <td>0.964901</td>\n",
       "      <td>0.743826</td>\n",
       "      <td>0.931034</td>\n",
       "    </tr>\n",
       "    <tr>\n",
       "      <th>19</th>\n",
       "      <td></td>\n",
       "      <td>2020-03-02 04:46:08</td>\n",
       "      <td>0.143 sec</td>\n",
       "      <td>19.0</td>\n",
       "      <td>0.906538</td>\n",
       "      <td>0.712777</td>\n",
       "      <td>0.821812</td>\n",
       "    </tr>\n",
       "  </tbody>\n",
       "</table>\n",
       "</div>"
      ],
      "text/plain": [
       "                timestamp    duration  number_of_trees  training_rmse  \\\n",
       "0     2020-03-02 04:46:08   0.000 sec              0.0            NaN   \n",
       "1     2020-03-02 04:46:08   0.016 sec              1.0       1.229797   \n",
       "2     2020-03-02 04:46:08   0.023 sec              2.0       1.162234   \n",
       "3     2020-03-02 04:46:08   0.030 sec              3.0       1.156572   \n",
       "4     2020-03-02 04:46:08   0.039 sec              4.0       1.215039   \n",
       "5     2020-03-02 04:46:08   0.049 sec              5.0       1.204685   \n",
       "6     2020-03-02 04:46:08   0.065 sec              6.0       1.213598   \n",
       "7     2020-03-02 04:46:08   0.068 sec              7.0       1.164610   \n",
       "8     2020-03-02 04:46:08   0.079 sec              8.0       1.196100   \n",
       "9     2020-03-02 04:46:08   0.085 sec              9.0       1.141688   \n",
       "10    2020-03-02 04:46:08   0.095 sec             10.0       1.083134   \n",
       "11    2020-03-02 04:46:08   0.101 sec             11.0       1.068129   \n",
       "12    2020-03-02 04:46:08   0.107 sec             12.0       1.068173   \n",
       "13    2020-03-02 04:46:08   0.111 sec             13.0       1.029302   \n",
       "14    2020-03-02 04:46:08   0.116 sec             14.0       1.058218   \n",
       "15    2020-03-02 04:46:08   0.126 sec             15.0       1.010607   \n",
       "16    2020-03-02 04:46:08   0.129 sec             16.0       0.997513   \n",
       "17    2020-03-02 04:46:08   0.132 sec             17.0       0.969142   \n",
       "18    2020-03-02 04:46:08   0.140 sec             18.0       0.964901   \n",
       "19    2020-03-02 04:46:08   0.143 sec             19.0       0.906538   \n",
       "\n",
       "    training_mae  training_deviance  \n",
       "0            NaN                NaN  \n",
       "1       0.871991           1.512401  \n",
       "2       0.858348           1.350787  \n",
       "3       0.909497           1.337658  \n",
       "4       0.965810           1.476319  \n",
       "5       0.919465           1.451266  \n",
       "6       0.918485           1.472820  \n",
       "7       0.902489           1.356318  \n",
       "8       0.925008           1.430654  \n",
       "9       0.872258           1.303452  \n",
       "10      0.806967           1.173179  \n",
       "11      0.792516           1.140900  \n",
       "12      0.793932           1.140993  \n",
       "13      0.774453           1.059463  \n",
       "14      0.783177           1.119825  \n",
       "15      0.752455           1.021326  \n",
       "16      0.754709           0.995032  \n",
       "17      0.746586           0.939236  \n",
       "18      0.743826           0.931034  \n",
       "19      0.712777           0.821812  "
      ]
     },
     "metadata": {},
     "output_type": "display_data"
    },
    {
     "name": "stdout",
     "output_type": "stream",
     "text": [
      "\n",
      "See the whole table with table.as_data_frame()\n",
      "\n",
      "Variable Importances: \n"
     ]
    },
    {
     "data": {
      "text/html": [
       "<div>\n",
       "<style scoped>\n",
       "    .dataframe tbody tr th:only-of-type {\n",
       "        vertical-align: middle;\n",
       "    }\n",
       "\n",
       "    .dataframe tbody tr th {\n",
       "        vertical-align: top;\n",
       "    }\n",
       "\n",
       "    .dataframe thead th {\n",
       "        text-align: right;\n",
       "    }\n",
       "</style>\n",
       "<table border=\"1\" class=\"dataframe\">\n",
       "  <thead>\n",
       "    <tr style=\"text-align: right;\">\n",
       "      <th></th>\n",
       "      <th>variable</th>\n",
       "      <th>relative_importance</th>\n",
       "      <th>scaled_importance</th>\n",
       "      <th>percentage</th>\n",
       "    </tr>\n",
       "  </thead>\n",
       "  <tbody>\n",
       "    <tr>\n",
       "      <th>0</th>\n",
       "      <td>age_at_sale</td>\n",
       "      <td>1852.077515</td>\n",
       "      <td>1.000000</td>\n",
       "      <td>0.210044</td>\n",
       "    </tr>\n",
       "    <tr>\n",
       "      <th>1</th>\n",
       "      <td>hours_final</td>\n",
       "      <td>1244.915527</td>\n",
       "      <td>0.672172</td>\n",
       "      <td>0.141186</td>\n",
       "    </tr>\n",
       "    <tr>\n",
       "      <th>2</th>\n",
       "      <td>make</td>\n",
       "      <td>1024.147949</td>\n",
       "      <td>0.552973</td>\n",
       "      <td>0.116149</td>\n",
       "    </tr>\n",
       "    <tr>\n",
       "      <th>3</th>\n",
       "      <td>paint_brightness</td>\n",
       "      <td>946.377136</td>\n",
       "      <td>0.510981</td>\n",
       "      <td>0.107329</td>\n",
       "    </tr>\n",
       "    <tr>\n",
       "      <th>4</th>\n",
       "      <td>cabin_blackness</td>\n",
       "      <td>797.913879</td>\n",
       "      <td>0.430821</td>\n",
       "      <td>0.090491</td>\n",
       "    </tr>\n",
       "    <tr>\n",
       "      <th>5</th>\n",
       "      <td>score</td>\n",
       "      <td>608.231018</td>\n",
       "      <td>0.328405</td>\n",
       "      <td>0.068979</td>\n",
       "    </tr>\n",
       "    <tr>\n",
       "      <th>6</th>\n",
       "      <td>body_rust_extent</td>\n",
       "      <td>604.499146</td>\n",
       "      <td>0.326390</td>\n",
       "      <td>0.068556</td>\n",
       "    </tr>\n",
       "    <tr>\n",
       "      <th>7</th>\n",
       "      <td>dirt_level</td>\n",
       "      <td>557.688354</td>\n",
       "      <td>0.301115</td>\n",
       "      <td>0.063247</td>\n",
       "    </tr>\n",
       "    <tr>\n",
       "      <th>8</th>\n",
       "      <td>tread_wear</td>\n",
       "      <td>361.822174</td>\n",
       "      <td>0.195360</td>\n",
       "      <td>0.041034</td>\n",
       "    </tr>\n",
       "    <tr>\n",
       "      <th>9</th>\n",
       "      <td>buck_rust_extent</td>\n",
       "      <td>249.112915</td>\n",
       "      <td>0.134505</td>\n",
       "      <td>0.028252</td>\n",
       "    </tr>\n",
       "    <tr>\n",
       "      <th>10</th>\n",
       "      <td>blue_sky</td>\n",
       "      <td>216.393784</td>\n",
       "      <td>0.116838</td>\n",
       "      <td>0.024541</td>\n",
       "    </tr>\n",
       "    <tr>\n",
       "      <th>11</th>\n",
       "      <td>cloud_snow</td>\n",
       "      <td>94.871620</td>\n",
       "      <td>0.051224</td>\n",
       "      <td>0.010759</td>\n",
       "    </tr>\n",
       "    <tr>\n",
       "      <th>12</th>\n",
       "      <td>sun</td>\n",
       "      <td>78.430809</td>\n",
       "      <td>0.042347</td>\n",
       "      <td>0.008895</td>\n",
       "    </tr>\n",
       "    <tr>\n",
       "      <th>13</th>\n",
       "      <td>grass</td>\n",
       "      <td>76.165794</td>\n",
       "      <td>0.041125</td>\n",
       "      <td>0.008638</td>\n",
       "    </tr>\n",
       "    <tr>\n",
       "      <th>14</th>\n",
       "      <td>bucket_y</td>\n",
       "      <td>55.739777</td>\n",
       "      <td>0.030096</td>\n",
       "      <td>0.006321</td>\n",
       "    </tr>\n",
       "    <tr>\n",
       "      <th>15</th>\n",
       "      <td>outdoor</td>\n",
       "      <td>42.510204</td>\n",
       "      <td>0.022953</td>\n",
       "      <td>0.004821</td>\n",
       "    </tr>\n",
       "    <tr>\n",
       "      <th>16</th>\n",
       "      <td>engine_sentiment</td>\n",
       "      <td>4.149465</td>\n",
       "      <td>0.002240</td>\n",
       "      <td>0.000471</td>\n",
       "    </tr>\n",
       "    <tr>\n",
       "      <th>17</th>\n",
       "      <td>bucket_sentiment</td>\n",
       "      <td>2.526300</td>\n",
       "      <td>0.001364</td>\n",
       "      <td>0.000287</td>\n",
       "    </tr>\n",
       "  </tbody>\n",
       "</table>\n",
       "</div>"
      ],
      "text/plain": [
       "            variable  relative_importance  scaled_importance  percentage\n",
       "0        age_at_sale          1852.077515           1.000000    0.210044\n",
       "1        hours_final          1244.915527           0.672172    0.141186\n",
       "2               make          1024.147949           0.552973    0.116149\n",
       "3   paint_brightness           946.377136           0.510981    0.107329\n",
       "4    cabin_blackness           797.913879           0.430821    0.090491\n",
       "5              score           608.231018           0.328405    0.068979\n",
       "6   body_rust_extent           604.499146           0.326390    0.068556\n",
       "7         dirt_level           557.688354           0.301115    0.063247\n",
       "8         tread_wear           361.822174           0.195360    0.041034\n",
       "9   buck_rust_extent           249.112915           0.134505    0.028252\n",
       "10          blue_sky           216.393784           0.116838    0.024541\n",
       "11        cloud_snow            94.871620           0.051224    0.010759\n",
       "12               sun            78.430809           0.042347    0.008895\n",
       "13             grass            76.165794           0.041125    0.008638\n",
       "14          bucket_y            55.739777           0.030096    0.006321\n",
       "15           outdoor            42.510204           0.022953    0.004821\n",
       "16  engine_sentiment             4.149465           0.002240    0.000471\n",
       "17  bucket_sentiment             2.526300           0.001364    0.000287"
      ]
     },
     "metadata": {},
     "output_type": "display_data"
    },
    {
     "name": "stdout",
     "output_type": "stream",
     "text": [
      "\n"
     ]
    }
   ],
   "source": [
    "print(model)"
   ]
  },
  {
   "cell_type": "code",
   "execution_count": 39,
   "metadata": {},
   "outputs": [
    {
     "data": {
      "image/png": "[encoded data removed]",
      "text/plain": [
       "<Figure size 1008x720 with 1 Axes>"
      ]
     },
     "metadata": {
      "needs_background": "light"
     },
     "output_type": "display_data"
    }
   ],
   "source": [
    "model.varimp_plot()"
   ]
  },
  {
   "cell_type": "code",
   "execution_count": 191,
   "metadata": {},
   "outputs": [
    {
     "data": {
      "image/png": "[encoded data removed]",
      "text/plain": [
       "<Figure size 640x480 with 1 Axes>"
      ]
     },
     "metadata": {},
     "output_type": "display_data"
    }
   ],
   "source": [
    "import matplotlib.pyplot as plt\n",
    "plt.rcdefaults()\n",
    "csfont = {'fontname':'sans-serif'}\n",
    "hfont = {'fontname':'sans-serif'}\n",
    "fig, ax = plt.subplots()\n",
    "variables = model._model_json['output']['variable_importances']['variable']\n",
    "y_pos = np.arange(len(variables))\n",
    "scaled_importance = model._model_json['output']['variable_importances']['scaled_importance']\n",
    "ax.barh(y_pos, scaled_importance, align='center', color='#7e57c2', ecolor=None)\n",
    "ax.set_yticks(y_pos)\n",
    "ax.set_yticklabels(variables,**csfont,fontsize = 9)\n",
    "ax.invert_yaxis()\n",
    "# ax.set_xlabel('Scaled Importance',**csfont)\n",
    "ax.set_title('Variable Importance',**hfont, fontsize = 14)\n",
    "plt.show()"
   ]
  },
  {
   "cell_type": "code",
   "execution_count": null,
   "metadata": {},
   "outputs": [],
   "source": []
  }
 ],
 "metadata": {
  "kernelspec": {
   "display_name": "Python 3",
   "language": "python",
   "name": "python3"
  },
  "language_info": {
   "codemirror_mode": {
    "name": "ipython",
    "version": 3
   },
   "file_extension": ".py",
   "mimetype": "text/x-python",
   "name": "python",
   "nbconvert_exporter": "python",
   "pygments_lexer": "ipython3",
   "version": "3.7.4"
  }
 },
 "nbformat": 4,
 "nbformat_minor": 4
}
