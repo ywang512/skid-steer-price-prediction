{
 "cells": [
  {
   "cell_type": "code",
   "execution_count": 1,
   "metadata": {},
   "outputs": [],
   "source": [
    "from PIL import Image\n",
    "import os\n",
    "import time\n",
    "import numpy as np\n",
    "import pandas as pd\n",
    "from matplotlib import pyplot as plt\n",
    "from IPython.display import clear_output"
   ]
  },
  {
   "cell_type": "code",
   "execution_count": 8,
   "metadata": {},
   "outputs": [],
   "source": [
    "def read_labels(path):\n",
    "    img_labels = pd.read_csv(path, index_col=0, dtype=str)\n",
    "    return img_labels\n",
    "\n",
    "def save_labels(df, path):\n",
    "    df.to_csv(path)\n",
    "    return None\n",
    "\n",
    "def labelingN(N, LABELS, PATH_IMG, PATH_LABEL):\n",
    "    # create a label file\n",
    "    if os.path.isfile(PATH_LABEL):\n",
    "        img_labels = read_labels(PATH_LABEL)\n",
    "    else:\n",
    "        img_labels = pd.DataFrame(columns=[\"img\"]+LABELS).set_index(\"img\")\n",
    "    # labeling\n",
    "    update_count = 0\n",
    "    file_imgs = os.listdir(PATH_IMG)\n",
    "    np.random.shuffle(file_imgs)\n",
    "    n = min(int(N), len(file_imgs))\n",
    "    for file_img in file_imgs[:n]:\n",
    "        if \".jpg\" in file_img or \".jpeg\" in file_img:\n",
    "            print(\"labels: %a  |  img_name: %s\" % (LABELS, file_img))\n",
    "            img = Image.open(PATH_IMG+file_img)\n",
    "            plt.figure(figsize=(12, 12))\n",
    "            plt.imshow(np.array(img))\n",
    "            plt.show()\n",
    "            labels = [input(\"labeling: %s\" % l) for l in LABELS]\n",
    "            label_series = pd.Series(labels, index=img_labels.columns, dtype=str, name=file_img)\n",
    "            if file_img in img_labels.index:\n",
    "                update_count += 1\n",
    "                if not all(img_labels.loc[file_img] == label_series):\n",
    "                    print(\"Received Conflicting Labels:\")\n",
    "                    print(\" original  : %a\" % list(img_labels.loc[file_img]))\n",
    "                    print(\"newly-added: %a\" % list(label_series))\n",
    "                    labels = [input(\"final labeling: %s\" % l) for l in LABELS]\n",
    "                    label_series = pd.Series(labels, index=img_labels.columns, dtype=str, name=file_img)\n",
    "            img_labels = img_labels.append(label_series)\n",
    "            clear_output()\n",
    "    # save labels\n",
    "    save_labels(img_labels, PATH_LABEL)\n",
    "    return update_count\n",
    "\n",
    "def labeling(LABELS, PATH_IMG, PATH_LABEL):\n",
    "    N = -1\n",
    "    all_count = 0\n",
    "    update_count = 0\n",
    "    while N != str(0):\n",
    "        N = input(\"How many images do you want to label: \")\n",
    "        update = labelingN(N, LABELS, PATH_IMG, PATH_LABEL)\n",
    "        update_count += update\n",
    "        all_count += int(N)\n",
    "    img_labels = read_labels(PATH_LABEL)\n",
    "    len_labels = len(img_labels)\n",
    "    print(\"update/add: %d/%d\" % (update_count, all_count - update_count))\n",
    "    print(\"done! [%.2f%% labeled]\" % (100*len_labels/len(os.listdir(PATH_IMG))))\n",
    "    return None"
   ]
  },
  {
   "cell_type": "code",
   "execution_count": 54,
   "metadata": {},
   "outputs": [
    {
     "name": "stdin",
     "output_type": "stream",
     "text": [
      "How many images do you want to label:  0\n"
     ]
    },
    {
     "name": "stdout",
     "output_type": "stream",
     "text": [
      "update/add: 0/10\n",
      "done! [1.78% labeled]\n"
     ]
    }
   ],
   "source": [
    "### Corrosion Labeling\n",
    "PATH_IMG = \"../../data/images/\"\n",
    "PATH_LABEL = \"../../data/labeled_corrosion.csv\"\n",
    "LABELS = [\"attached\", \"binary\", \"five\"]\n",
    "labeling(LABELS=LABELS, PATH_IMG=PATH_IMG, PATH_LABEL=PATH_LABEL)"
   ]
  },
  {
   "cell_type": "code",
   "execution_count": 64,
   "metadata": {},
   "outputs": [
    {
     "name": "stdout",
     "output_type": "stream",
     "text": [
      "1: 15\n",
      "2: 16\n",
      "3: 34\n",
      "4: 16\n",
      "5: 29\n",
      "sum: 110\n",
      "with attachement: 100\n"
     ]
    }
   ],
   "source": [
    "from collections import Counter, OrderedDict\n",
    "temp = read_labels(PATH_LABEL)\n",
    "c = Counter(temp.five.values)\n",
    "total = 0\n",
    "for i in sorted(c.keys()):\n",
    "    print(\"%s: %d\" % (i, c[i]))\n",
    "    total += c[i]\n",
    "print(\"sum: %d\" % total)\n",
    "print(\"with attachement: %d\" % (temp.attached == \"1\").sum())"
   ]
  },
  {
   "cell_type": "code",
   "execution_count": null,
   "metadata": {},
   "outputs": [],
   "source": []
  }
 ],
 "metadata": {
  "kernelspec": {
   "display_name": "Python 3",
   "language": "python",
   "name": "python3"
  },
  "language_info": {
   "codemirror_mode": {
    "name": "ipython",
    "version": 3
   },
   "file_extension": ".py",
   "mimetype": "text/x-python",
   "name": "python",
   "nbconvert_exporter": "python",
   "pygments_lexer": "ipython3",
   "version": "3.7.3"
  }
 },
 "nbformat": 4,
 "nbformat_minor": 2
}
