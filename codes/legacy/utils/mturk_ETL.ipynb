{
 "cells": [
  {
   "cell_type": "code",
   "execution_count": 14,
   "metadata": {},
   "outputs": [],
   "source": [
    "import numpy as np\n",
    "import pandas as pd"
   ]
  },
  {
   "cell_type": "code",
   "execution_count": 15,
   "metadata": {},
   "outputs": [],
   "source": [
    "mturk = pd.read_csv(\"../../data/labels/mturk_rusk_11-14.csv\")\n",
    "\n",
    "mturk = mturk[['WorkerId', \n",
    "               'Input.image_url', \n",
    "               'Answer.Extent', \n",
    "               'Answer.option1.on', \n",
    "               'Answer.option2.on', \n",
    "               'Answer.option3.on']]"
   ]
  },
  {
   "cell_type": "code",
   "execution_count": 16,
   "metadata": {},
   "outputs": [
    {
     "data": {
      "text/html": [
       "<div>\n",
       "<style scoped>\n",
       "    .dataframe tbody tr th:only-of-type {\n",
       "        vertical-align: middle;\n",
       "    }\n",
       "\n",
       "    .dataframe tbody tr th {\n",
       "        vertical-align: top;\n",
       "    }\n",
       "\n",
       "    .dataframe thead th {\n",
       "        text-align: right;\n",
       "    }\n",
       "</style>\n",
       "<table border=\"1\" class=\"dataframe\">\n",
       "  <thead>\n",
       "    <tr style=\"text-align: right;\">\n",
       "      <th></th>\n",
       "      <th>WorkerId</th>\n",
       "      <th>Input.image_url</th>\n",
       "      <th>Answer.Extent</th>\n",
       "      <th>Answer.option1.on</th>\n",
       "      <th>Answer.option2.on</th>\n",
       "      <th>Answer.option3.on</th>\n",
       "    </tr>\n",
       "  </thead>\n",
       "  <tbody>\n",
       "    <tr>\n",
       "      <th>0</th>\n",
       "      <td>A1BZMONU8QDPFQ</td>\n",
       "      <td>bigiron_1053.jpg</td>\n",
       "      <td>2</td>\n",
       "      <td>True</td>\n",
       "      <td>False</td>\n",
       "      <td>False</td>\n",
       "    </tr>\n",
       "    <tr>\n",
       "      <th>1</th>\n",
       "      <td>A1Q8PPQQCWGY0D</td>\n",
       "      <td>bigiron_1053.jpg</td>\n",
       "      <td>3</td>\n",
       "      <td>True</td>\n",
       "      <td>False</td>\n",
       "      <td>False</td>\n",
       "    </tr>\n",
       "    <tr>\n",
       "      <th>2</th>\n",
       "      <td>A2A1E85FL1JAB9</td>\n",
       "      <td>bigiron_1053.jpg</td>\n",
       "      <td>1</td>\n",
       "      <td>True</td>\n",
       "      <td>False</td>\n",
       "      <td>False</td>\n",
       "    </tr>\n",
       "    <tr>\n",
       "      <th>3</th>\n",
       "      <td>A3O0UKK3YYWWCF</td>\n",
       "      <td>bigiron_DA7311.jpg</td>\n",
       "      <td>2</td>\n",
       "      <td>True</td>\n",
       "      <td>False</td>\n",
       "      <td>False</td>\n",
       "    </tr>\n",
       "    <tr>\n",
       "      <th>4</th>\n",
       "      <td>A2OP2ZANIM5ZV</td>\n",
       "      <td>bigiron_DA7311.jpg</td>\n",
       "      <td>2</td>\n",
       "      <td>True</td>\n",
       "      <td>False</td>\n",
       "      <td>False</td>\n",
       "    </tr>\n",
       "  </tbody>\n",
       "</table>\n",
       "</div>"
      ],
      "text/plain": [
       "         WorkerId     Input.image_url  Answer.Extent  Answer.option1.on  \\\n",
       "0  A1BZMONU8QDPFQ    bigiron_1053.jpg              2               True   \n",
       "1  A1Q8PPQQCWGY0D    bigiron_1053.jpg              3               True   \n",
       "2  A2A1E85FL1JAB9    bigiron_1053.jpg              1               True   \n",
       "3  A3O0UKK3YYWWCF  bigiron_DA7311.jpg              2               True   \n",
       "4   A2OP2ZANIM5ZV  bigiron_DA7311.jpg              2               True   \n",
       "\n",
       "   Answer.option2.on  Answer.option3.on  \n",
       "0              False              False  \n",
       "1              False              False  \n",
       "2              False              False  \n",
       "3              False              False  \n",
       "4              False              False  "
      ]
     },
     "execution_count": 16,
     "metadata": {},
     "output_type": "execute_result"
    }
   ],
   "source": [
    "mturk.head()"
   ]
  },
  {
   "cell_type": "code",
   "execution_count": 17,
   "metadata": {},
   "outputs": [],
   "source": [
    "imageID_all = mturk[\"Input.image_url\"].unique()"
   ]
  },
  {
   "cell_type": "code",
   "execution_count": 18,
   "metadata": {},
   "outputs": [
    {
     "data": {
      "text/plain": [
       "114"
      ]
     },
     "execution_count": 18,
     "metadata": {},
     "output_type": "execute_result"
    }
   ],
   "source": [
    "### image ID with 3 differnt answers\n",
    "\n",
    "imageID_diff = []\n",
    "for iid in imageID_all:\n",
    "    temp = mturk[mturk[\"Input.image_url\"] == iid]\n",
    "    a = temp.iloc[0]\n",
    "    b = temp.iloc[1]\n",
    "    c = temp.iloc[2]\n",
    "    if not ((a == b)[2:].all() or (a == c)[2:].all() or (b == c)[2:].all()):\n",
    "        imageID_diff.append(iid)\n",
    "len(imageID_diff)"
   ]
  },
  {
   "cell_type": "code",
   "execution_count": 19,
   "metadata": {},
   "outputs": [
    {
     "data": {
      "text/plain": [
       "47"
      ]
     },
     "execution_count": 19,
     "metadata": {},
     "output_type": "execute_result"
    }
   ],
   "source": [
    "### (WorkerId, ImageId) pairs with illegal answers (option 1 in Q1 but not 0 in Q2)\n",
    "\n",
    "illegal_pairs = []\n",
    "for i, row in mturk.iterrows():\n",
    "    if (row['Answer.option1.on'] and row['Answer.Extent'] == 0) or (not row['Answer.option1.on'] and row['Answer.Extent'] != 0):\n",
    "        illegal_pairs.append((row[\"WorkerId\"], row[\"Input.image_url\"]))\n",
    "len(illegal_pairs)"
   ]
  },
  {
   "cell_type": "code",
   "execution_count": 20,
   "metadata": {},
   "outputs": [
    {
     "data": {
      "text/plain": [
       "1135"
      ]
     },
     "execution_count": 20,
     "metadata": {},
     "output_type": "execute_result"
    }
   ],
   "source": [
    "mturk_clean = mturk.copy()\n",
    "drops = []\n",
    "for i, row in mturk_clean.iterrows():\n",
    "    pairs = (row[\"WorkerId\"], row[\"Input.image_url\"])\n",
    "    imageId = row[\"Input.image_url\"]\n",
    "    if pairs in illegal_pairs or imageId in imageID_diff:\n",
    "        drops.append(i)\n",
    "mturk_clean.drop(labels=drops, axis=0, inplace=True)\n",
    "len(mturk_clean)"
   ]
  },
  {
   "cell_type": "code",
   "execution_count": 21,
   "metadata": {},
   "outputs": [
    {
     "data": {
      "text/plain": [
       "Counter({3: 365, 2: 20})"
      ]
     },
     "execution_count": 21,
     "metadata": {},
     "output_type": "execute_result"
    }
   ],
   "source": [
    "from collections import Counter\n",
    "Counter(mturk_clean.groupby(\"Input.image_url\").agg(lambda x: len(x))[\"WorkerId\"])\n",
    "\n",
    "### 365 images have all 3 \"legal\" workers and \"majority\" results"
   ]
  },
  {
   "cell_type": "code",
   "execution_count": 22,
   "metadata": {},
   "outputs": [
    {
     "name": "stdout",
     "output_type": "stream",
     "text": [
      "Counter({0: 427, 1: 257, 2: 234, 3: 177})\n",
      "Counter({0: 455, 1: 263, 2: 236, 3: 181})\n"
     ]
    }
   ],
   "source": [
    "### distribution of \"true\" labels\n",
    "\n",
    "## if we only use images wiht 3 workers\n",
    "three_workers = (mturk_clean.groupby(\"Input.image_url\").agg(lambda x: len(x))[\"WorkerId\"] == 3)\n",
    "three_workers_imageId = three_workers.index[three_workers.values].tolist()\n",
    "mturk_clean_3 = mturk_clean[mturk_clean[\"Input.image_url\"].isin(three_workers_imageId)]\n",
    "assert len(mturk_clean_3) == 365 * 3\n",
    "print(Counter(mturk_clean_3[\"Answer.Extent\"]))\n",
    "\n",
    "## if we only use all cleaned labels\n",
    "print(Counter(mturk_clean[\"Answer.Extent\"]))"
   ]
  },
  {
   "cell_type": "code",
   "execution_count": 83,
   "metadata": {},
   "outputs": [],
   "source": [
    "### Extract true labels\n",
    "\n",
    "true_labels = mturk_clean_3.groupby(\"Input.image_url\")[\"Answer.Extent\"].agg(pd.Series.mode)\n",
    "true_labels.rename(\"three\", inplace=True)\n",
    "true_labels.rename_axis(\"img\", inplace=True)\n",
    "true_labels = pd.DataFrame(data=true_labels)\n",
    "true_labels = true_labels[true_labels[\"three\"] != 0]\n",
    "true_labels = true_labels[true_labels.index != \"file_list.csv\"]\n",
    "true_labels.to_csv(\"../../data/labels/mturk_rusk_11-14_truth.csv\")"
   ]
  },
  {
   "cell_type": "code",
   "execution_count": 84,
   "metadata": {},
   "outputs": [
    {
     "data": {
      "text/plain": [
       "218"
      ]
     },
     "execution_count": 84,
     "metadata": {},
     "output_type": "execute_result"
    }
   ],
   "source": [
    "len(true_labels[true_labels[\"three\"] != 0])"
   ]
  },
  {
   "cell_type": "code",
   "execution_count": null,
   "metadata": {},
   "outputs": [],
   "source": []
  }
 ],
 "metadata": {
  "kernelspec": {
   "display_name": "Python 3",
   "language": "python",
   "name": "python3"
  },
  "language_info": {
   "codemirror_mode": {
    "name": "ipython",
    "version": 3
   },
   "file_extension": ".py",
   "mimetype": "text/x-python",
   "name": "python",
   "nbconvert_exporter": "python",
   "pygments_lexer": "ipython3",
   "version": "3.7.3"
  }
 },
 "nbformat": 4,
 "nbformat_minor": 2
}
